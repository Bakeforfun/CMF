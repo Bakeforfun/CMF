{
 "cells": [
  {
   "cell_type": "code",
   "execution_count": 1,
   "metadata": {
    "collapsed": true
   },
   "outputs": [],
   "source": [
    "import numpy as np\n",
    "import pandas as pd\n",
    "import matplotlib.pyplot as plt\n",
    "plt.style.use('ggplot')"
   ]
  },
  {
   "cell_type": "code",
   "execution_count": 2,
   "metadata": {
    "collapsed": true
   },
   "outputs": [],
   "source": [
    "from sklearn.metrics import log_loss"
   ]
  },
  {
   "cell_type": "code",
   "execution_count": 3,
   "metadata": {
    "collapsed": true
   },
   "outputs": [],
   "source": [
    "train = pd.read_pickle('data/train_prep.pkl')\n",
    "test = pd.read_pickle('data/test_prep.pkl')\n",
    "sample = pd.read_csv('data/sample_submission.csv')"
   ]
  },
  {
   "cell_type": "code",
   "execution_count": 4,
   "metadata": {
    "collapsed": false
   },
   "outputs": [],
   "source": [
    "outcome = pd.read_csv('data/train.csv', usecols=['OutcomeType'], squeeze=True)"
   ]
  },
  {
   "cell_type": "code",
   "execution_count": 5,
   "metadata": {
    "collapsed": false
   },
   "outputs": [],
   "source": [
    "from sklearn.preprocessing import LabelEncoder\n",
    "le = LabelEncoder()\n",
    "y = le.fit_transform(outcome)"
   ]
  },
  {
   "cell_type": "markdown",
   "metadata": {},
   "source": [
    "Train-Test Split\n",
    "--"
   ]
  },
  {
   "cell_type": "code",
   "execution_count": 6,
   "metadata": {
    "collapsed": true
   },
   "outputs": [],
   "source": [
    "X = train"
   ]
  },
  {
   "cell_type": "code",
   "execution_count": 7,
   "metadata": {
    "collapsed": false
   },
   "outputs": [],
   "source": [
    "from sklearn.cross_validation import train_test_split"
   ]
  },
  {
   "cell_type": "code",
   "execution_count": 8,
   "metadata": {
    "collapsed": true
   },
   "outputs": [],
   "source": [
    "Xtr, Xval, ytr, yval = train_test_split(X, y, test_size=0.15, random_state=42)"
   ]
  },
  {
   "cell_type": "code",
   "execution_count": 9,
   "metadata": {
    "collapsed": false
   },
   "outputs": [
    {
     "data": {
      "text/plain": [
       "((22719, 37), (4010, 37))"
      ]
     },
     "execution_count": 9,
     "metadata": {},
     "output_type": "execute_result"
    }
   ],
   "source": [
    "Xtr.shape, Xval.shape"
   ]
  },
  {
   "cell_type": "markdown",
   "metadata": {},
   "source": [
    "Constant prediction\n",
    "--"
   ]
  },
  {
   "cell_type": "code",
   "execution_count": 10,
   "metadata": {
    "collapsed": false
   },
   "outputs": [],
   "source": [
    "const = np.ones(shape=(4010, 5))*0.2"
   ]
  },
  {
   "cell_type": "code",
   "execution_count": 11,
   "metadata": {
    "collapsed": false
   },
   "outputs": [
    {
     "data": {
      "text/plain": [
       "1.6094379124340998"
      ]
     },
     "execution_count": 11,
     "metadata": {},
     "output_type": "execute_result"
    }
   ],
   "source": [
    "log_loss(yval, const)"
   ]
  },
  {
   "cell_type": "code",
   "execution_count": 12,
   "metadata": {
    "collapsed": false
   },
   "outputs": [
    {
     "data": {
      "text/plain": [
       "array([ 0.40169022,  0.00743871,  0.05836524,  0.17888111,  0.35362472])"
      ]
     },
     "execution_count": 12,
     "metadata": {},
     "output_type": "execute_result"
    }
   ],
   "source": [
    "probas = np.array(pd.Series(ytr).value_counts(normalize=True).sort_index().tolist())\n",
    "probas"
   ]
  },
  {
   "cell_type": "code",
   "execution_count": 13,
   "metadata": {
    "collapsed": false
   },
   "outputs": [
    {
     "data": {
      "text/plain": [
       "1.239851171099952"
      ]
     },
     "execution_count": 13,
     "metadata": {},
     "output_type": "execute_result"
    }
   ],
   "source": [
    "log_loss(yval, np.tile(probas, 4010).reshape(4010, 5))"
   ]
  },
  {
   "cell_type": "markdown",
   "metadata": {},
   "source": [
    "Logistic regression is my profession\n",
    "--"
   ]
  },
  {
   "cell_type": "code",
   "execution_count": 14,
   "metadata": {
    "collapsed": true
   },
   "outputs": [],
   "source": [
    "from sklearn.linear_model import LogisticRegression"
   ]
  },
  {
   "cell_type": "code",
   "execution_count": 15,
   "metadata": {
    "collapsed": false
   },
   "outputs": [
    {
     "data": {
      "text/plain": [
       "LogisticRegression(C=1.0, class_weight=None, dual=False, fit_intercept=True,\n",
       "          intercept_scaling=1, max_iter=100, multi_class='ovr', n_jobs=1,\n",
       "          penalty='l2', random_state=None, solver='liblinear', tol=0.0001,\n",
       "          verbose=0, warm_start=False)"
      ]
     },
     "execution_count": 15,
     "metadata": {},
     "output_type": "execute_result"
    }
   ],
   "source": [
    "lr = LogisticRegression()\n",
    "lr.fit(Xtr, ytr)"
   ]
  },
  {
   "cell_type": "code",
   "execution_count": 16,
   "metadata": {
    "collapsed": false
   },
   "outputs": [
    {
     "name": "stdout",
     "output_type": "stream",
     "text": [
      "Train logloss 0.900914002897\n",
      "Validation logloss 0.906664961891\n"
     ]
    }
   ],
   "source": [
    "print('Train logloss', log_loss(ytr, lr.predict_proba(Xtr)))\n",
    "print('Validation logloss', log_loss(yval, lr.predict_proba(Xval)))"
   ]
  },
  {
   "cell_type": "code",
   "execution_count": null,
   "metadata": {
    "collapsed": true
   },
   "outputs": [],
   "source": [
    "lr.log_loss()"
   ]
  },
  {
   "cell_type": "code",
   "execution_count": null,
   "metadata": {
    "collapsed": true
   },
   "outputs": [],
   "source": []
  },
  {
   "cell_type": "code",
   "execution_count": null,
   "metadata": {
    "collapsed": true
   },
   "outputs": [],
   "source": []
  },
  {
   "cell_type": "markdown",
   "metadata": {},
   "source": [
    "### Hyperparameter optimization"
   ]
  },
  {
   "cell_type": "code",
   "execution_count": 18,
   "metadata": {
    "collapsed": true
   },
   "outputs": [],
   "source": [
    "from sklearn.grid_search import GridSearchCV"
   ]
  },
  {
   "cell_type": "code",
   "execution_count": 19,
   "metadata": {
    "collapsed": false
   },
   "outputs": [
    {
     "data": {
      "text/plain": [
       "array([  1.00000000e-04,   3.72759372e-04,   1.38949549e-03,\n",
       "         5.17947468e-03,   1.93069773e-02,   7.19685673e-02,\n",
       "         2.68269580e-01,   1.00000000e+00,   3.72759372e+00,\n",
       "         1.38949549e+01,   5.17947468e+01,   1.93069773e+02,\n",
       "         7.19685673e+02,   2.68269580e+03,   1.00000000e+04])"
      ]
     },
     "execution_count": 19,
     "metadata": {},
     "output_type": "execute_result"
    }
   ],
   "source": [
    "Cs = 10**np.linspace(-4, 4, num=15)\n",
    "Cs"
   ]
  },
  {
   "cell_type": "code",
   "execution_count": 20,
   "metadata": {
    "collapsed": true
   },
   "outputs": [],
   "source": [
    "grid = {'C': Cs}\n",
    "gridsearch = GridSearchCV(LogisticRegression(), grid, scoring='log_loss', cv=6)"
   ]
  },
  {
   "cell_type": "code",
   "execution_count": null,
   "metadata": {
    "collapsed": false
   },
   "outputs": [],
   "source": [
    "%time gridsearch.fit(X, y)"
   ]
  },
  {
   "cell_type": "code",
   "execution_count": 21,
   "metadata": {
    "collapsed": false
   },
   "outputs": [
    {
     "data": {
      "image/png": "[encoded data removed]",
      "text/plain": [
       "<matplotlib.figure.Figure at 0x10dad02e8>"
      ]
     },
     "metadata": {},
     "output_type": "display_data"
    }
   ],
   "source": [
    "scores = [-x.mean_validation_score for x in  gridsearch.grid_scores_]\n",
    "plt.plot(Cs, scores)\n",
    "plt.scatter(Cs, scores)\n",
    "plt.scatter(Cs[np.argmin(scores)], scores[np.argmin(scores)], c='g', s=100)\n",
    "plt.xscale('log')"
   ]
  },
  {
   "cell_type": "code",
   "execution_count": 24,
   "metadata": {
    "collapsed": false
   },
   "outputs": [
    {
     "data": {
      "text/plain": [
       "2682.695795279722"
      ]
     },
     "execution_count": 24,
     "metadata": {},
     "output_type": "execute_result"
    }
   ],
   "source": [
    "C = Cs[np.argmin(scores)]\n",
    "C"
   ]
  },
  {
   "cell_type": "code",
   "execution_count": 23,
   "metadata": {
    "collapsed": false
   },
   "outputs": [
    {
     "name": "stdout",
     "output_type": "stream",
     "text": [
      "Train logloss 0.896828933353\n",
      "Validation logloss 0.904638214997\n"
     ]
    }
   ],
   "source": [
    "lr = LogisticRegression(C=C)\n",
    "lr.fit(Xtr, ytr)\n",
    "print('Train logloss', log_loss(ytr, lr.predict_proba(Xtr)))\n",
    "print('Validation logloss', log_loss(yval, lr.predict_proba(Xval)))"
   ]
  },
  {
   "cell_type": "code",
   "execution_count": 25,
   "metadata": {
    "collapsed": false
   },
   "outputs": [
    {
     "data": {
      "text/plain": [
       "LogisticRegression(C=2682.695795279722, class_weight=None, dual=False,\n",
       "          fit_intercept=True, intercept_scaling=1, max_iter=100,\n",
       "          multi_class='ovr', n_jobs=1, penalty='l2', random_state=None,\n",
       "          solver='liblinear', tol=0.0001, verbose=0, warm_start=False)"
      ]
     },
     "execution_count": 25,
     "metadata": {},
     "output_type": "execute_result"
    }
   ],
   "source": [
    "lr.fit(X, y)"
   ]
  },
  {
   "cell_type": "markdown",
   "metadata": {},
   "source": [
    "XGBoost\n",
    "--"
   ]
  },
  {
   "cell_type": "code",
   "execution_count": 26,
   "metadata": {
    "collapsed": true
   },
   "outputs": [],
   "source": [
    "import xgboost as xgb"
   ]
  },
  {
   "cell_type": "code",
   "execution_count": 27,
   "metadata": {
    "collapsed": true
   },
   "outputs": [],
   "source": [
    "# gbm = xgb.XGBClassifier() Не наш путь"
   ]
  },
  {
   "cell_type": "code",
   "execution_count": 28,
   "metadata": {
    "collapsed": true
   },
   "outputs": [],
   "source": [
    "dtrain = xgb.DMatrix(X, label=y)"
   ]
  },
  {
   "cell_type": "code",
   "execution_count": 29,
   "metadata": {
    "collapsed": false
   },
   "outputs": [],
   "source": [
    "params = {\n",
    "    'objective': 'multi:softmax',\n",
    "    'num_class': 5,\n",
    "    'max_depth': 8,\n",
    "    'eta': 0.1\n",
    "}\n",
    "trees = 200"
   ]
  },
  {
   "cell_type": "code",
   "execution_count": 30,
   "metadata": {
    "collapsed": false
   },
   "outputs": [
    {
     "name": "stderr",
     "output_type": "stream",
     "text": [
      "[0]\tcv-test-mlogloss:1.4989257142857144\tcv-train-mlogloss:1.4928414285714287\n",
      "[1]\tcv-test-mlogloss:1.409735857142857\tcv-train-mlogloss:1.398026\n",
      "[2]\tcv-test-mlogloss:1.3355055714285715\tcv-train-mlogloss:1.3184372857142856\n",
      "[3]\tcv-test-mlogloss:1.272546\tcv-train-mlogloss:1.2504097142857142\n",
      "[4]\tcv-test-mlogloss:1.2182058571428573\tcv-train-mlogloss:1.1912582857142857\n",
      "[5]\tcv-test-mlogloss:1.1709468571428572\tcv-train-mlogloss:1.1395545714285713\n",
      "[6]\tcv-test-mlogloss:1.1295427142857144\tcv-train-mlogloss:1.0937524285714286\n",
      "[7]\tcv-test-mlogloss:1.0930922857142857\tcv-train-mlogloss:1.052933\n",
      "[8]\tcv-test-mlogloss:1.0607697142857142\tcv-train-mlogloss:1.0164252857142857\n",
      "[9]\tcv-test-mlogloss:1.0318809999999998\tcv-train-mlogloss:0.9835399999999999\n",
      "[10]\tcv-test-mlogloss:1.006081\tcv-train-mlogloss:0.9537661428571429\n",
      "[11]\tcv-test-mlogloss:0.9829337142857143\tcv-train-mlogloss:0.9268734285714285\n",
      "[12]\tcv-test-mlogloss:0.962344\tcv-train-mlogloss:0.9024767142857143\n",
      "[13]\tcv-test-mlogloss:0.9437038571428572\tcv-train-mlogloss:0.880121\n",
      "[14]\tcv-test-mlogloss:0.9268407142857142\tcv-train-mlogloss:0.859549\n",
      "[15]\tcv-test-mlogloss:0.9116974285714285\tcv-train-mlogloss:0.8406941428571428\n",
      "[16]\tcv-test-mlogloss:0.897992\tcv-train-mlogloss:0.8232938571428571\n",
      "[17]\tcv-test-mlogloss:0.8856104285714286\tcv-train-mlogloss:0.8072151428571429\n",
      "[18]\tcv-test-mlogloss:0.8743327142857142\tcv-train-mlogloss:0.792347\n",
      "[19]\tcv-test-mlogloss:0.8640072857142856\tcv-train-mlogloss:0.7785549999999999\n",
      "[20]\tcv-test-mlogloss:0.8547405714285715\tcv-train-mlogloss:0.7658454285714286\n",
      "[21]\tcv-test-mlogloss:0.8463678571428572\tcv-train-mlogloss:0.753882\n",
      "[22]\tcv-test-mlogloss:0.8387001428571429\tcv-train-mlogloss:0.7428192857142858\n",
      "[23]\tcv-test-mlogloss:0.8317145714285713\tcv-train-mlogloss:0.7324902857142858\n",
      "[24]\tcv-test-mlogloss:0.8254312857142858\tcv-train-mlogloss:0.7227798571428571\n",
      "[25]\tcv-test-mlogloss:0.8195194285714287\tcv-train-mlogloss:0.7134837142857142\n",
      "[26]\tcv-test-mlogloss:0.8142535714285714\tcv-train-mlogloss:0.70482\n",
      "[27]\tcv-test-mlogloss:0.8091938571428573\tcv-train-mlogloss:0.6966245714285716\n",
      "[28]\tcv-test-mlogloss:0.8045082857142857\tcv-train-mlogloss:0.6889269999999998\n",
      "[29]\tcv-test-mlogloss:0.800128142857143\tcv-train-mlogloss:0.6815571428571428\n",
      "[30]\tcv-test-mlogloss:0.7962710000000001\tcv-train-mlogloss:0.674698\n",
      "[31]\tcv-test-mlogloss:0.792629857142857\tcv-train-mlogloss:0.6681444285714285\n",
      "[32]\tcv-test-mlogloss:0.7893455714285714\tcv-train-mlogloss:0.6620811428571428\n",
      "[33]\tcv-test-mlogloss:0.7863714285714286\tcv-train-mlogloss:0.6562805714285714\n",
      "[34]\tcv-test-mlogloss:0.7835432857142858\tcv-train-mlogloss:0.6507040000000001\n",
      "[35]\tcv-test-mlogloss:0.7809887142857143\tcv-train-mlogloss:0.645455\n",
      "[36]\tcv-test-mlogloss:0.7783532857142859\tcv-train-mlogloss:0.640347\n",
      "[37]\tcv-test-mlogloss:0.7760547142857143\tcv-train-mlogloss:0.6353631428571428\n",
      "[38]\tcv-test-mlogloss:0.7738798571428571\tcv-train-mlogloss:0.6306587142857143\n",
      "[39]\tcv-test-mlogloss:0.7720614285714287\tcv-train-mlogloss:0.625965857142857\n",
      "[40]\tcv-test-mlogloss:0.7701785714285714\tcv-train-mlogloss:0.6214568571428573\n",
      "[41]\tcv-test-mlogloss:0.7684318571428571\tcv-train-mlogloss:0.6171245714285715\n",
      "[42]\tcv-test-mlogloss:0.7667687142857142\tcv-train-mlogloss:0.6131144285714285\n",
      "[43]\tcv-test-mlogloss:0.7653528571428572\tcv-train-mlogloss:0.6092045714285714\n",
      "[44]\tcv-test-mlogloss:0.7640404285714285\tcv-train-mlogloss:0.605776\n",
      "[45]\tcv-test-mlogloss:0.7628398571428571\tcv-train-mlogloss:0.6024882857142858\n",
      "[46]\tcv-test-mlogloss:0.7617648571428571\tcv-train-mlogloss:0.5992725714285714\n",
      "[47]\tcv-test-mlogloss:0.76059\tcv-train-mlogloss:0.5958255714285715\n",
      "[48]\tcv-test-mlogloss:0.7595242857142857\tcv-train-mlogloss:0.5926694285714287\n",
      "[49]\tcv-test-mlogloss:0.7587558571428572\tcv-train-mlogloss:0.5895238571428572\n",
      "[50]\tcv-test-mlogloss:0.7578981428571429\tcv-train-mlogloss:0.5866181428571428\n",
      "[51]\tcv-test-mlogloss:0.756964\tcv-train-mlogloss:0.5839004285714285\n",
      "[52]\tcv-test-mlogloss:0.7561844285714285\tcv-train-mlogloss:0.5811958571428573\n",
      "[53]\tcv-test-mlogloss:0.7553637142857142\tcv-train-mlogloss:0.5785808571428571\n",
      "[54]\tcv-test-mlogloss:0.7547318571428571\tcv-train-mlogloss:0.5761955714285714\n",
      "[55]\tcv-test-mlogloss:0.7540351428571428\tcv-train-mlogloss:0.5738057142857143\n",
      "[56]\tcv-test-mlogloss:0.7534157142857144\tcv-train-mlogloss:0.5715417142857143\n",
      "[57]\tcv-test-mlogloss:0.7530157142857143\tcv-train-mlogloss:0.5691478571428572\n",
      "[58]\tcv-test-mlogloss:0.7525167142857143\tcv-train-mlogloss:0.5668885714285714\n",
      "[59]\tcv-test-mlogloss:0.7520831428571428\tcv-train-mlogloss:0.5647075714285713\n",
      "[60]\tcv-test-mlogloss:0.7516934285714284\tcv-train-mlogloss:0.5625748571428573\n",
      "[61]\tcv-test-mlogloss:0.7513415714285714\tcv-train-mlogloss:0.5605914285714285\n",
      "[62]\tcv-test-mlogloss:0.7509684285714285\tcv-train-mlogloss:0.5583842857142857\n",
      "[63]\tcv-test-mlogloss:0.7506160000000001\tcv-train-mlogloss:0.5561868571428572\n",
      "[64]\tcv-test-mlogloss:0.7503525714285714\tcv-train-mlogloss:0.5541861428571428\n",
      "[65]\tcv-test-mlogloss:0.7500359999999999\tcv-train-mlogloss:0.5520895714285715\n",
      "[66]\tcv-test-mlogloss:0.7497412857142857\tcv-train-mlogloss:0.550104\n",
      "[67]\tcv-test-mlogloss:0.7493814285714286\tcv-train-mlogloss:0.5480042857142857\n",
      "[68]\tcv-test-mlogloss:0.7489882857142857\tcv-train-mlogloss:0.5457547142857143\n",
      "[69]\tcv-test-mlogloss:0.7485978571428571\tcv-train-mlogloss:0.5436735714285714\n",
      "[70]\tcv-test-mlogloss:0.7484077142857143\tcv-train-mlogloss:0.5418184285714286\n",
      "[71]\tcv-test-mlogloss:0.7481662857142857\tcv-train-mlogloss:0.5400714285714285\n",
      "[72]\tcv-test-mlogloss:0.7478842857142858\tcv-train-mlogloss:0.5382101428571429\n",
      "[73]\tcv-test-mlogloss:0.7476595714285714\tcv-train-mlogloss:0.5364087142857142\n",
      "[74]\tcv-test-mlogloss:0.747516\tcv-train-mlogloss:0.5343581428571429\n",
      "[75]\tcv-test-mlogloss:0.7473822857142858\tcv-train-mlogloss:0.5326464285714285\n",
      "[76]\tcv-test-mlogloss:0.7471532857142857\tcv-train-mlogloss:0.5309224285714287\n",
      "[77]\tcv-test-mlogloss:0.7469582857142859\tcv-train-mlogloss:0.5291175714285714\n",
      "[78]\tcv-test-mlogloss:0.7468497142857142\tcv-train-mlogloss:0.5274798571428572\n",
      "[79]\tcv-test-mlogloss:0.7467801428571429\tcv-train-mlogloss:0.5256677142857142\n",
      "[80]\tcv-test-mlogloss:0.7466438571428571\tcv-train-mlogloss:0.5239931428571428\n",
      "[81]\tcv-test-mlogloss:0.7463987142857144\tcv-train-mlogloss:0.5221437142857143\n",
      "[82]\tcv-test-mlogloss:0.7463205714285713\tcv-train-mlogloss:0.5201399999999999\n",
      "[83]\tcv-test-mlogloss:0.7462728571428572\tcv-train-mlogloss:0.518531\n",
      "[84]\tcv-test-mlogloss:0.7462012857142858\tcv-train-mlogloss:0.5170385714285715\n",
      "[85]\tcv-test-mlogloss:0.7461545714285714\tcv-train-mlogloss:0.5153407142857143\n",
      "[86]\tcv-test-mlogloss:0.7461141428571428\tcv-train-mlogloss:0.5138292857142857\n",
      "[87]\tcv-test-mlogloss:0.7459842857142858\tcv-train-mlogloss:0.51205\n",
      "[88]\tcv-test-mlogloss:0.7459144285714286\tcv-train-mlogloss:0.5102735714285715\n",
      "[89]\tcv-test-mlogloss:0.7457802857142857\tcv-train-mlogloss:0.5085309999999998\n",
      "[90]\tcv-test-mlogloss:0.7457584285714286\tcv-train-mlogloss:0.5068727142857143\n",
      "[91]\tcv-test-mlogloss:0.7457834285714287\tcv-train-mlogloss:0.505253\n",
      "[92]\tcv-test-mlogloss:0.7457135714285714\tcv-train-mlogloss:0.5036332857142857\n",
      "[93]\tcv-test-mlogloss:0.7457567142857143\tcv-train-mlogloss:0.5021928571428571\n",
      "[94]\tcv-test-mlogloss:0.7457285714285715\tcv-train-mlogloss:0.5004695714285714\n",
      "[95]\tcv-test-mlogloss:0.7456895714285715\tcv-train-mlogloss:0.49912142857142855\n",
      "[96]\tcv-test-mlogloss:0.7457287142857142\tcv-train-mlogloss:0.49758414285714286\n",
      "[97]\tcv-test-mlogloss:0.7457651428571428\tcv-train-mlogloss:0.49579228571428574\n",
      "[98]\tcv-test-mlogloss:0.7457488571428571\tcv-train-mlogloss:0.49401742857142855\n",
      "[99]\tcv-test-mlogloss:0.7457555714285713\tcv-train-mlogloss:0.4925352857142857\n",
      "[100]\tcv-test-mlogloss:0.7456774285714286\tcv-train-mlogloss:0.4912785714285714\n",
      "[101]\tcv-test-mlogloss:0.7456587142857144\tcv-train-mlogloss:0.4896828571428572\n",
      "[102]\tcv-test-mlogloss:0.7457351428571429\tcv-train-mlogloss:0.48808928571428567\n",
      "[103]\tcv-test-mlogloss:0.7457231428571429\tcv-train-mlogloss:0.48648314285714284\n",
      "[104]\tcv-test-mlogloss:0.7456414285714287\tcv-train-mlogloss:0.4850928571428571\n",
      "[105]\tcv-test-mlogloss:0.7456094285714286\tcv-train-mlogloss:0.4832824285714286\n",
      "[106]\tcv-test-mlogloss:0.7456105714285715\tcv-train-mlogloss:0.48195428571428567\n",
      "[107]\tcv-test-mlogloss:0.7454928571428571\tcv-train-mlogloss:0.48022985714285715\n",
      "[108]\tcv-test-mlogloss:0.7455212857142858\tcv-train-mlogloss:0.47875128571428566\n",
      "[109]\tcv-test-mlogloss:0.7456127142857144\tcv-train-mlogloss:0.4774647142857143\n",
      "[110]\tcv-test-mlogloss:0.7456278571428572\tcv-train-mlogloss:0.4759525714285714\n",
      "[111]\tcv-test-mlogloss:0.7456667142857143\tcv-train-mlogloss:0.4746665714285715\n",
      "[112]\tcv-test-mlogloss:0.7456794285714287\tcv-train-mlogloss:0.4731587142857143\n",
      "[113]\tcv-test-mlogloss:0.7457172857142857\tcv-train-mlogloss:0.47184757142857137\n",
      "[114]\tcv-test-mlogloss:0.7457095714285715\tcv-train-mlogloss:0.47021557142857145\n",
      "[115]\tcv-test-mlogloss:0.7457184285714286\tcv-train-mlogloss:0.46869371428571427\n",
      "[116]\tcv-test-mlogloss:0.7458702857142857\tcv-train-mlogloss:0.4670905714285714\n",
      "[117]\tcv-test-mlogloss:0.7458891428571428\tcv-train-mlogloss:0.46544728571428573\n",
      "[118]\tcv-test-mlogloss:0.7459392857142857\tcv-train-mlogloss:0.4641851428571428\n",
      "[119]\tcv-test-mlogloss:0.7459878571428572\tcv-train-mlogloss:0.4628394285714286\n",
      "[120]\tcv-test-mlogloss:0.7460557142857144\tcv-train-mlogloss:0.46143357142857144\n",
      "[121]\tcv-test-mlogloss:0.7461051428571428\tcv-train-mlogloss:0.46012400000000003\n",
      "[122]\tcv-test-mlogloss:0.7460932857142859\tcv-train-mlogloss:0.4589425714285714\n",
      "[123]\tcv-test-mlogloss:0.7461048571428572\tcv-train-mlogloss:0.4573494285714285\n",
      "[124]\tcv-test-mlogloss:0.7460868571428572\tcv-train-mlogloss:0.4558492857142858\n",
      "[125]\tcv-test-mlogloss:0.7462082857142857\tcv-train-mlogloss:0.4544617142857143\n",
      "[126]\tcv-test-mlogloss:0.7462754285714286\tcv-train-mlogloss:0.453\n",
      "[127]\tcv-test-mlogloss:0.7462292857142857\tcv-train-mlogloss:0.4513987142857143\n",
      "[128]\tcv-test-mlogloss:0.7462171428571428\tcv-train-mlogloss:0.450043\n",
      "[129]\tcv-test-mlogloss:0.7462495714285715\tcv-train-mlogloss:0.4485542857142857\n",
      "[130]\tcv-test-mlogloss:0.7463082857142858\tcv-train-mlogloss:0.4470914285714286\n",
      "[131]\tcv-test-mlogloss:0.7463415714285714\tcv-train-mlogloss:0.4457115714285714\n",
      "[132]\tcv-test-mlogloss:0.7463430000000001\tcv-train-mlogloss:0.44432214285714283\n",
      "[133]\tcv-test-mlogloss:0.7463507142857144\tcv-train-mlogloss:0.4424578571428572\n",
      "[134]\tcv-test-mlogloss:0.7463674285714286\tcv-train-mlogloss:0.44116414285714284\n",
      "[135]\tcv-test-mlogloss:0.7464672857142857\tcv-train-mlogloss:0.4393622857142857\n",
      "[136]\tcv-test-mlogloss:0.7463647142857143\tcv-train-mlogloss:0.4378015714285714\n",
      "[137]\tcv-test-mlogloss:0.7464089999999999\tcv-train-mlogloss:0.4361924285714286\n",
      "[138]\tcv-test-mlogloss:0.7464992857142858\tcv-train-mlogloss:0.4346707142857143\n",
      "[139]\tcv-test-mlogloss:0.7465575714285714\tcv-train-mlogloss:0.4333877142857143\n",
      "[140]\tcv-test-mlogloss:0.7466097142857143\tcv-train-mlogloss:0.432235\n",
      "[141]\tcv-test-mlogloss:0.7466360000000002\tcv-train-mlogloss:0.43104814285714294\n",
      "[142]\tcv-test-mlogloss:0.746669857142857\tcv-train-mlogloss:0.4294108571428571\n",
      "[143]\tcv-test-mlogloss:0.7468298571428571\tcv-train-mlogloss:0.4281302857142858\n",
      "[144]\tcv-test-mlogloss:0.7469472857142857\tcv-train-mlogloss:0.426417\n",
      "[145]\tcv-test-mlogloss:0.7470288571428573\tcv-train-mlogloss:0.4251871428571428\n",
      "[146]\tcv-test-mlogloss:0.7470738571428571\tcv-train-mlogloss:0.4237424285714285\n",
      "[147]\tcv-test-mlogloss:0.7472227142857142\tcv-train-mlogloss:0.4222238571428572\n",
      "[148]\tcv-test-mlogloss:0.7471871428571427\tcv-train-mlogloss:0.42088214285714287\n",
      "[149]\tcv-test-mlogloss:0.7472345714285714\tcv-train-mlogloss:0.41936357142857145\n",
      "[150]\tcv-test-mlogloss:0.7473988571428573\tcv-train-mlogloss:0.4180984285714286\n",
      "[151]\tcv-test-mlogloss:0.7476204285714286\tcv-train-mlogloss:0.41695071428571423\n",
      "[152]\tcv-test-mlogloss:0.747687\tcv-train-mlogloss:0.41542599999999996\n",
      "[153]\tcv-test-mlogloss:0.7478192857142858\tcv-train-mlogloss:0.4141792857142857\n",
      "[154]\tcv-test-mlogloss:0.7479848571428571\tcv-train-mlogloss:0.41303100000000004\n",
      "[155]\tcv-test-mlogloss:0.7480681428571428\tcv-train-mlogloss:0.4116391428571428\n",
      "[156]\tcv-test-mlogloss:0.748123\tcv-train-mlogloss:0.410165\n",
      "[157]\tcv-test-mlogloss:0.7482038571428572\tcv-train-mlogloss:0.4085584285714286\n",
      "[158]\tcv-test-mlogloss:0.7483701428571428\tcv-train-mlogloss:0.40710785714285713\n",
      "[159]\tcv-test-mlogloss:0.7484072857142856\tcv-train-mlogloss:0.40600842857142855\n",
      "[160]\tcv-test-mlogloss:0.7485758571428571\tcv-train-mlogloss:0.40493999999999997\n",
      "[161]\tcv-test-mlogloss:0.7486261428571429\tcv-train-mlogloss:0.40359228571428574\n",
      "[162]\tcv-test-mlogloss:0.7486688571428574\tcv-train-mlogloss:0.4023458571428571\n",
      "[163]\tcv-test-mlogloss:0.7487367142857143\tcv-train-mlogloss:0.4010745714285714\n",
      "[164]\tcv-test-mlogloss:0.7488634285714285\tcv-train-mlogloss:0.4000252857142857\n",
      "[165]\tcv-test-mlogloss:0.7489588571428571\tcv-train-mlogloss:0.3985608571428572\n",
      "[166]\tcv-test-mlogloss:0.7490308571428571\tcv-train-mlogloss:0.39752128571428574\n",
      "[167]\tcv-test-mlogloss:0.7491772857142858\tcv-train-mlogloss:0.3960405714285714\n",
      "[168]\tcv-test-mlogloss:0.7492982857142856\tcv-train-mlogloss:0.3945825714285714\n",
      "[169]\tcv-test-mlogloss:0.7494464285714286\tcv-train-mlogloss:0.3931611428571428\n",
      "[170]\tcv-test-mlogloss:0.7495195714285714\tcv-train-mlogloss:0.3918085714285714\n",
      "[171]\tcv-test-mlogloss:0.7496462857142856\tcv-train-mlogloss:0.39056100000000005\n",
      "[172]\tcv-test-mlogloss:0.7497664285714286\tcv-train-mlogloss:0.38901414285714286\n",
      "[173]\tcv-test-mlogloss:0.7497994285714286\tcv-train-mlogloss:0.38756585714285713\n",
      "[174]\tcv-test-mlogloss:0.749824\tcv-train-mlogloss:0.3863005714285715\n",
      "[175]\tcv-test-mlogloss:0.7499307142857143\tcv-train-mlogloss:0.38519514285714285\n",
      "[176]\tcv-test-mlogloss:0.749996142857143\tcv-train-mlogloss:0.3838761428571428\n",
      "[177]\tcv-test-mlogloss:0.7500705714285715\tcv-train-mlogloss:0.3826981428571429\n",
      "[178]\tcv-test-mlogloss:0.7502818571428571\tcv-train-mlogloss:0.38135585714285714\n",
      "[179]\tcv-test-mlogloss:0.7504531428571427\tcv-train-mlogloss:0.38028071428571425\n",
      "[180]\tcv-test-mlogloss:0.7504975714285713\tcv-train-mlogloss:0.3789821428571428\n",
      "[181]\tcv-test-mlogloss:0.7506128571428572\tcv-train-mlogloss:0.377725\n",
      "[182]\tcv-test-mlogloss:0.7506972857142858\tcv-train-mlogloss:0.3763331428571428\n",
      "[183]\tcv-test-mlogloss:0.7507584285714285\tcv-train-mlogloss:0.37521057142857145\n",
      "[184]\tcv-test-mlogloss:0.7509189999999999\tcv-train-mlogloss:0.3737791428571428\n",
      "[185]\tcv-test-mlogloss:0.7510525714285714\tcv-train-mlogloss:0.372343\n",
      "[186]\tcv-test-mlogloss:0.7512461428571429\tcv-train-mlogloss:0.37098357142857147\n",
      "[187]\tcv-test-mlogloss:0.7513812857142858\tcv-train-mlogloss:0.36968257142857136\n",
      "[188]\tcv-test-mlogloss:0.7515458571428572\tcv-train-mlogloss:0.36859414285714287\n",
      "[189]\tcv-test-mlogloss:0.751714\tcv-train-mlogloss:0.3675147142857143\n",
      "[190]\tcv-test-mlogloss:0.7517965714285715\tcv-train-mlogloss:0.3660225714285715\n",
      "[191]\tcv-test-mlogloss:0.7518575714285713\tcv-train-mlogloss:0.3647475714285714\n",
      "[192]\tcv-test-mlogloss:0.7519352857142857\tcv-train-mlogloss:0.36350557142857143\n",
      "[193]\tcv-test-mlogloss:0.7521610000000001\tcv-train-mlogloss:0.3623884285714286\n",
      "[194]\tcv-test-mlogloss:0.7522997142857143\tcv-train-mlogloss:0.36130499999999993\n",
      "[195]\tcv-test-mlogloss:0.7524172857142857\tcv-train-mlogloss:0.3602701428571428\n",
      "[196]\tcv-test-mlogloss:0.7525475714285713\tcv-train-mlogloss:0.3592725714285714\n",
      "[197]\tcv-test-mlogloss:0.7526430000000001\tcv-train-mlogloss:0.3582361428571429\n",
      "[198]\tcv-test-mlogloss:0.7528417142857143\tcv-train-mlogloss:0.3572367142857143\n",
      "[199]\tcv-test-mlogloss:0.7529524285714285\tcv-train-mlogloss:0.3557454285714286\n"
     ]
    }
   ],
   "source": [
    "cv = xgb.cv(params, dtrain, metrics=('mlogloss'), show_progress=True, nfold=7, show_stdv=False, num_boost_round=trees)"
   ]
  },
  {
   "cell_type": "code",
   "execution_count": 31,
   "metadata": {
    "collapsed": false
   },
   "outputs": [
    {
     "data": {
      "text/html": [
       "<div>\n",
       "<table border=\"1\" class=\"dataframe\">\n",
       "  <thead>\n",
       "    <tr style=\"text-align: right;\">\n",
       "      <th></th>\n",
       "      <th>test-mlogloss-mean</th>\n",
       "      <th>test-mlogloss-std</th>\n",
       "      <th>train-mlogloss-mean</th>\n",
       "      <th>train-mlogloss-std</th>\n",
       "    </tr>\n",
       "  </thead>\n",
       "  <tbody>\n",
       "    <tr>\n",
       "      <th>0</th>\n",
       "      <td>1.498926</td>\n",
       "      <td>0.001517</td>\n",
       "      <td>1.492841</td>\n",
       "      <td>0.000297</td>\n",
       "    </tr>\n",
       "    <tr>\n",
       "      <th>1</th>\n",
       "      <td>1.409736</td>\n",
       "      <td>0.002834</td>\n",
       "      <td>1.398026</td>\n",
       "      <td>0.000505</td>\n",
       "    </tr>\n",
       "    <tr>\n",
       "      <th>2</th>\n",
       "      <td>1.335506</td>\n",
       "      <td>0.003850</td>\n",
       "      <td>1.318437</td>\n",
       "      <td>0.000579</td>\n",
       "    </tr>\n",
       "    <tr>\n",
       "      <th>3</th>\n",
       "      <td>1.272546</td>\n",
       "      <td>0.004641</td>\n",
       "      <td>1.250410</td>\n",
       "      <td>0.000662</td>\n",
       "    </tr>\n",
       "    <tr>\n",
       "      <th>4</th>\n",
       "      <td>1.218206</td>\n",
       "      <td>0.005527</td>\n",
       "      <td>1.191258</td>\n",
       "      <td>0.000750</td>\n",
       "    </tr>\n",
       "  </tbody>\n",
       "</table>\n",
       "</div>"
      ],
      "text/plain": [
       "   test-mlogloss-mean  test-mlogloss-std  train-mlogloss-mean  \\\n",
       "0            1.498926           0.001517             1.492841   \n",
       "1            1.409736           0.002834             1.398026   \n",
       "2            1.335506           0.003850             1.318437   \n",
       "3            1.272546           0.004641             1.250410   \n",
       "4            1.218206           0.005527             1.191258   \n",
       "\n",
       "   train-mlogloss-std  \n",
       "0            0.000297  \n",
       "1            0.000505  \n",
       "2            0.000579  \n",
       "3            0.000662  \n",
       "4            0.000750  "
      ]
     },
     "execution_count": 31,
     "metadata": {},
     "output_type": "execute_result"
    }
   ],
   "source": [
    "cv.head()"
   ]
  },
  {
   "cell_type": "code",
   "execution_count": 34,
   "metadata": {
    "collapsed": false
   },
   "outputs": [
    {
     "data": {
      "text/plain": [
       "<matplotlib.axes._subplots.AxesSubplot at 0x111875a58>"
      ]
     },
     "execution_count": 34,
     "metadata": {},
     "output_type": "execute_result"
    },
    {
     "data": {
      "image/png": "[encoded data removed]",
      "text/plain": [
       "<matplotlib.figure.Figure at 0x10e616518>"
      ]
     },
     "metadata": {},
     "output_type": "display_data"
    }
   ],
   "source": [
    "cv.plot(y=['test-mlogloss-mean', 'train-mlogloss-mean'])"
   ]
  },
  {
   "cell_type": "code",
   "execution_count": 35,
   "metadata": {
    "collapsed": false
   },
   "outputs": [
    {
     "data": {
      "text/plain": [
       "<matplotlib.axes._subplots.AxesSubplot at 0x10e65f710>"
      ]
     },
     "execution_count": 35,
     "metadata": {},
     "output_type": "execute_result"
    },
    {
     "data": {
      "image/png": "[encoded data removed]",
      "text/plain": [
       "<matplotlib.figure.Figure at 0x10e65e898>"
      ]
     },
     "metadata": {},
     "output_type": "display_data"
    }
   ],
   "source": [
    "cv[50:].plot(y=['test-mlogloss-mean', 'train-mlogloss-mean'], secondary_y='test-mlogloss-mean')"
   ]
  },
  {
   "cell_type": "code",
   "execution_count": 36,
   "metadata": {
    "collapsed": false
   },
   "outputs": [
    {
     "data": {
      "text/plain": [
       "107"
      ]
     },
     "execution_count": 36,
     "metadata": {},
     "output_type": "execute_result"
    }
   ],
   "source": [
    "cv['test-mlogloss-mean'].argmin()"
   ]
  },
  {
   "cell_type": "code",
   "execution_count": 38,
   "metadata": {
    "collapsed": false
   },
   "outputs": [
    {
     "data": {
      "text/plain": [
       "test-mlogloss-mean     0.745493\n",
       "test-mlogloss-std      0.012350\n",
       "train-mlogloss-mean    0.480230\n",
       "train-mlogloss-std     0.003164\n",
       "Name: 107, dtype: float64"
      ]
     },
     "execution_count": 38,
     "metadata": {},
     "output_type": "execute_result"
    }
   ],
   "source": [
    "cv.loc[107]"
   ]
  },
  {
   "cell_type": "code",
   "execution_count": 39,
   "metadata": {
    "collapsed": true
   },
   "outputs": [],
   "source": [
    "params = {\n",
    "    'objective': 'multi:softprob',\n",
    "    'num_class': 5,\n",
    "    'max_depth': 8,\n",
    "    'subsample': 0.9,\n",
    "    'eta': 0.05,\n",
    "    'min_child_weight': 2\n",
    "}\n",
    "trees = 300"
   ]
  },
  {
   "cell_type": "code",
   "execution_count": 41,
   "metadata": {
    "collapsed": false
   },
   "outputs": [
    {
     "name": "stderr",
     "output_type": "stream",
     "text": [
      "[0]\tcv-test-mlogloss:1.5532741666666665\tcv-train-mlogloss:1.5505181666666665\n",
      "[1]\tcv-test-mlogloss:1.5028633333333332\tcv-train-mlogloss:1.4974483333333335\n",
      "[2]\tcv-test-mlogloss:1.4573583333333333\tcv-train-mlogloss:1.4491678333333333\n",
      "[3]\tcv-test-mlogloss:1.4155931666666666\tcv-train-mlogloss:1.4048518333333335\n",
      "[4]\tcv-test-mlogloss:1.3771890000000002\tcv-train-mlogloss:1.3640345\n",
      "[5]\tcv-test-mlogloss:1.3419263333333333\tcv-train-mlogloss:1.3263191666666667\n",
      "[6]\tcv-test-mlogloss:1.3091421666666667\tcv-train-mlogloss:1.2913225000000002\n",
      "[7]\tcv-test-mlogloss:1.2789046666666666\tcv-train-mlogloss:1.2587623333333333\n",
      "[8]\tcv-test-mlogloss:1.2508155\tcv-train-mlogloss:1.228334\n",
      "[9]\tcv-test-mlogloss:1.224555\tcv-train-mlogloss:1.1998814999999998\n",
      "[10]\tcv-test-mlogloss:1.1999585\tcv-train-mlogloss:1.1730918333333333\n",
      "[11]\tcv-test-mlogloss:1.1768699999999999\tcv-train-mlogloss:1.1479040000000003\n",
      "[12]\tcv-test-mlogloss:1.1551823333333333\tcv-train-mlogloss:1.1242035000000001\n",
      "[13]\tcv-test-mlogloss:1.1348558333333334\tcv-train-mlogloss:1.1019138333333334\n",
      "[14]\tcv-test-mlogloss:1.1158481666666666\tcv-train-mlogloss:1.080845166666667\n",
      "[15]\tcv-test-mlogloss:1.0979205\tcv-train-mlogloss:1.0608273333333333\n",
      "[16]\tcv-test-mlogloss:1.0810315\tcv-train-mlogloss:1.0419615\n",
      "[17]\tcv-test-mlogloss:1.0650831666666665\tcv-train-mlogloss:1.0240426666666667\n",
      "[18]\tcv-test-mlogloss:1.0500723333333335\tcv-train-mlogloss:1.007039\n",
      "[19]\tcv-test-mlogloss:1.0358906666666667\tcv-train-mlogloss:0.9909233333333333\n",
      "[20]\tcv-test-mlogloss:1.0223763333333333\tcv-train-mlogloss:0.9755345000000001\n",
      "[21]\tcv-test-mlogloss:1.009708\tcv-train-mlogloss:0.960903\n",
      "[22]\tcv-test-mlogloss:0.9976888333333335\tcv-train-mlogloss:0.9469901666666666\n",
      "[23]\tcv-test-mlogloss:0.9862245000000001\tcv-train-mlogloss:0.9337166666666666\n",
      "[24]\tcv-test-mlogloss:0.9754248333333333\tcv-train-mlogloss:0.9209866666666667\n",
      "[25]\tcv-test-mlogloss:0.9652216666666665\tcv-train-mlogloss:0.9089035\n",
      "[26]\tcv-test-mlogloss:0.9554596666666666\tcv-train-mlogloss:0.8973575\n",
      "[27]\tcv-test-mlogloss:0.9461741666666666\tcv-train-mlogloss:0.8863083333333334\n",
      "[28]\tcv-test-mlogloss:0.9372645\tcv-train-mlogloss:0.8757018333333333\n",
      "[29]\tcv-test-mlogloss:0.928947\tcv-train-mlogloss:0.8655758333333333\n",
      "[30]\tcv-test-mlogloss:0.9210164999999999\tcv-train-mlogloss:0.8558651666666668\n",
      "[31]\tcv-test-mlogloss:0.9135344999999999\tcv-train-mlogloss:0.8465086666666667\n",
      "[32]\tcv-test-mlogloss:0.9063953333333333\tcv-train-mlogloss:0.8375381666666666\n",
      "[33]\tcv-test-mlogloss:0.8995781666666667\tcv-train-mlogloss:0.8289565\n",
      "[34]\tcv-test-mlogloss:0.8930585000000001\tcv-train-mlogloss:0.820662\n",
      "[35]\tcv-test-mlogloss:0.8869296666666666\tcv-train-mlogloss:0.8127288333333333\n",
      "[36]\tcv-test-mlogloss:0.8810565\tcv-train-mlogloss:0.8051156666666667\n",
      "[37]\tcv-test-mlogloss:0.8754991666666666\tcv-train-mlogloss:0.7977219999999999\n",
      "[38]\tcv-test-mlogloss:0.8701166666666666\tcv-train-mlogloss:0.7906895\n",
      "[39]\tcv-test-mlogloss:0.8649993333333333\tcv-train-mlogloss:0.7838938333333333\n",
      "[40]\tcv-test-mlogloss:0.8601436666666666\tcv-train-mlogloss:0.7773443333333333\n",
      "[41]\tcv-test-mlogloss:0.8555386666666668\tcv-train-mlogloss:0.7710083333333334\n",
      "[42]\tcv-test-mlogloss:0.8511003333333332\tcv-train-mlogloss:0.7648405\n",
      "[43]\tcv-test-mlogloss:0.8468625\tcv-train-mlogloss:0.7589558333333333\n",
      "[44]\tcv-test-mlogloss:0.842815\tcv-train-mlogloss:0.753279\n",
      "[45]\tcv-test-mlogloss:0.8388976666666665\tcv-train-mlogloss:0.747753\n",
      "[46]\tcv-test-mlogloss:0.8352436666666666\tcv-train-mlogloss:0.7424048333333334\n",
      "[47]\tcv-test-mlogloss:0.8317028333333333\tcv-train-mlogloss:0.7371801666666666\n",
      "[48]\tcv-test-mlogloss:0.8283765\tcv-train-mlogloss:0.7321345\n",
      "[49]\tcv-test-mlogloss:0.8252528333333334\tcv-train-mlogloss:0.7273673333333334\n",
      "[50]\tcv-test-mlogloss:0.822189\tcv-train-mlogloss:0.7226706666666667\n",
      "[51]\tcv-test-mlogloss:0.8191966666666666\tcv-train-mlogloss:0.7180971666666668\n",
      "[52]\tcv-test-mlogloss:0.8162896666666667\tcv-train-mlogloss:0.7136013333333334\n",
      "[53]\tcv-test-mlogloss:0.8136251666666667\tcv-train-mlogloss:0.7091783333333334\n",
      "[54]\tcv-test-mlogloss:0.8109211666666667\tcv-train-mlogloss:0.7049325\n",
      "[55]\tcv-test-mlogloss:0.8083426666666665\tcv-train-mlogloss:0.7008583333333332\n",
      "[56]\tcv-test-mlogloss:0.8059168333333333\tcv-train-mlogloss:0.6968818333333333\n",
      "[57]\tcv-test-mlogloss:0.8035330000000002\tcv-train-mlogloss:0.6929206666666666\n",
      "[58]\tcv-test-mlogloss:0.8012301666666667\tcv-train-mlogloss:0.6891616666666667\n",
      "[59]\tcv-test-mlogloss:0.7991388333333335\tcv-train-mlogloss:0.6855501666666667\n",
      "[60]\tcv-test-mlogloss:0.7970556666666666\tcv-train-mlogloss:0.6820175\n",
      "[61]\tcv-test-mlogloss:0.795098\tcv-train-mlogloss:0.6785711666666666\n",
      "[62]\tcv-test-mlogloss:0.7932263333333333\tcv-train-mlogloss:0.6751186666666666\n",
      "[63]\tcv-test-mlogloss:0.7914131666666666\tcv-train-mlogloss:0.6718786666666666\n",
      "[64]\tcv-test-mlogloss:0.7895851666666666\tcv-train-mlogloss:0.6686653333333333\n",
      "[65]\tcv-test-mlogloss:0.7879075000000001\tcv-train-mlogloss:0.6655705\n",
      "[66]\tcv-test-mlogloss:0.7862158333333333\tcv-train-mlogloss:0.6625126666666666\n",
      "[67]\tcv-test-mlogloss:0.7846683333333333\tcv-train-mlogloss:0.6596013333333334\n",
      "[68]\tcv-test-mlogloss:0.7831161666666667\tcv-train-mlogloss:0.656781\n",
      "[69]\tcv-test-mlogloss:0.7817121666666665\tcv-train-mlogloss:0.6539768333333333\n",
      "[70]\tcv-test-mlogloss:0.7803768333333333\tcv-train-mlogloss:0.6512088333333333\n",
      "[71]\tcv-test-mlogloss:0.7791226666666665\tcv-train-mlogloss:0.6485339999999999\n",
      "[72]\tcv-test-mlogloss:0.7778169999999999\tcv-train-mlogloss:0.645898\n",
      "[73]\tcv-test-mlogloss:0.7765248333333332\tcv-train-mlogloss:0.6433698333333333\n",
      "[74]\tcv-test-mlogloss:0.7753226666666667\tcv-train-mlogloss:0.6408545\n",
      "[75]\tcv-test-mlogloss:0.7741656666666668\tcv-train-mlogloss:0.6383078333333333\n",
      "[76]\tcv-test-mlogloss:0.7729973333333332\tcv-train-mlogloss:0.635877\n",
      "[77]\tcv-test-mlogloss:0.7719216666666666\tcv-train-mlogloss:0.6335175000000001\n",
      "[78]\tcv-test-mlogloss:0.7709166666666666\tcv-train-mlogloss:0.6311226666666666\n",
      "[79]\tcv-test-mlogloss:0.769967\tcv-train-mlogloss:0.6288945\n",
      "[80]\tcv-test-mlogloss:0.7690176666666666\tcv-train-mlogloss:0.6265828333333333\n",
      "[81]\tcv-test-mlogloss:0.768109\tcv-train-mlogloss:0.6243193333333332\n",
      "[82]\tcv-test-mlogloss:0.76723\tcv-train-mlogloss:0.622191\n",
      "[83]\tcv-test-mlogloss:0.7664191666666667\tcv-train-mlogloss:0.6201458333333334\n",
      "[84]\tcv-test-mlogloss:0.7655933333333333\tcv-train-mlogloss:0.6180545000000001\n",
      "[85]\tcv-test-mlogloss:0.7647926666666667\tcv-train-mlogloss:0.6159768333333334\n",
      "[86]\tcv-test-mlogloss:0.7640288333333333\tcv-train-mlogloss:0.6139045000000001\n",
      "[87]\tcv-test-mlogloss:0.7632418333333334\tcv-train-mlogloss:0.6119708333333334\n",
      "[88]\tcv-test-mlogloss:0.7625386666666666\tcv-train-mlogloss:0.6101125\n",
      "[89]\tcv-test-mlogloss:0.7617456666666667\tcv-train-mlogloss:0.6082599999999999\n",
      "[90]\tcv-test-mlogloss:0.7611633333333333\tcv-train-mlogloss:0.6065506666666667\n",
      "[91]\tcv-test-mlogloss:0.7605275000000001\tcv-train-mlogloss:0.6047210000000001\n",
      "[92]\tcv-test-mlogloss:0.7598911666666667\tcv-train-mlogloss:0.6028716666666666\n",
      "[93]\tcv-test-mlogloss:0.7592996666666666\tcv-train-mlogloss:0.6010863333333334\n",
      "[94]\tcv-test-mlogloss:0.7587196666666666\tcv-train-mlogloss:0.5994145000000001\n",
      "[95]\tcv-test-mlogloss:0.7581924999999999\tcv-train-mlogloss:0.5977206666666667\n",
      "[96]\tcv-test-mlogloss:0.757621\tcv-train-mlogloss:0.5958631666666668\n",
      "[97]\tcv-test-mlogloss:0.7571173333333334\tcv-train-mlogloss:0.5942023333333334\n",
      "[98]\tcv-test-mlogloss:0.7565976666666666\tcv-train-mlogloss:0.5925986666666666\n",
      "[99]\tcv-test-mlogloss:0.7560833333333333\tcv-train-mlogloss:0.5910235\n",
      "[100]\tcv-test-mlogloss:0.7555383333333333\tcv-train-mlogloss:0.589379\n",
      "[101]\tcv-test-mlogloss:0.7550341666666668\tcv-train-mlogloss:0.5878945\n",
      "[102]\tcv-test-mlogloss:0.7545293333333335\tcv-train-mlogloss:0.5863614999999999\n",
      "[103]\tcv-test-mlogloss:0.7540666666666667\tcv-train-mlogloss:0.5847228333333333\n",
      "[104]\tcv-test-mlogloss:0.7536143333333335\tcv-train-mlogloss:0.5831731666666666\n",
      "[105]\tcv-test-mlogloss:0.7532466666666666\tcv-train-mlogloss:0.5815236666666667\n",
      "[106]\tcv-test-mlogloss:0.7527848333333335\tcv-train-mlogloss:0.5799931666666668\n",
      "[107]\tcv-test-mlogloss:0.7523986666666667\tcv-train-mlogloss:0.5785575\n",
      "[108]\tcv-test-mlogloss:0.7519913333333333\tcv-train-mlogloss:0.5770295\n",
      "[109]\tcv-test-mlogloss:0.7516246666666667\tcv-train-mlogloss:0.575525\n",
      "[110]\tcv-test-mlogloss:0.751273\tcv-train-mlogloss:0.5740696666666667\n",
      "[111]\tcv-test-mlogloss:0.7509306666666666\tcv-train-mlogloss:0.572795\n",
      "[112]\tcv-test-mlogloss:0.7505733333333334\tcv-train-mlogloss:0.571466\n",
      "[113]\tcv-test-mlogloss:0.7502776666666667\tcv-train-mlogloss:0.5701139999999999\n",
      "[114]\tcv-test-mlogloss:0.7498933333333334\tcv-train-mlogloss:0.5687570000000001\n",
      "[115]\tcv-test-mlogloss:0.74957\tcv-train-mlogloss:0.5673864999999999\n",
      "[116]\tcv-test-mlogloss:0.7492271666666666\tcv-train-mlogloss:0.5661166666666667\n",
      "[117]\tcv-test-mlogloss:0.7488478333333335\tcv-train-mlogloss:0.5647353333333334\n",
      "[118]\tcv-test-mlogloss:0.7486113333333333\tcv-train-mlogloss:0.563476\n",
      "[119]\tcv-test-mlogloss:0.7483201666666667\tcv-train-mlogloss:0.5621648333333333\n",
      "[120]\tcv-test-mlogloss:0.7480895\tcv-train-mlogloss:0.5609861666666667\n",
      "[121]\tcv-test-mlogloss:0.74781\tcv-train-mlogloss:0.5597438333333332\n",
      "[122]\tcv-test-mlogloss:0.7476221666666666\tcv-train-mlogloss:0.5584728333333334\n",
      "[123]\tcv-test-mlogloss:0.7473728333333334\tcv-train-mlogloss:0.5571941666666665\n",
      "[124]\tcv-test-mlogloss:0.7471409999999999\tcv-train-mlogloss:0.5558916666666667\n",
      "[125]\tcv-test-mlogloss:0.7469181666666667\tcv-train-mlogloss:0.5546595\n",
      "[126]\tcv-test-mlogloss:0.7466881666666666\tcv-train-mlogloss:0.5534228333333333\n",
      "[127]\tcv-test-mlogloss:0.7464473333333332\tcv-train-mlogloss:0.5522088333333333\n",
      "[128]\tcv-test-mlogloss:0.7461698333333334\tcv-train-mlogloss:0.5509358333333333\n",
      "[129]\tcv-test-mlogloss:0.7460053333333333\tcv-train-mlogloss:0.5498438333333334\n",
      "[130]\tcv-test-mlogloss:0.745726\tcv-train-mlogloss:0.5483363333333333\n",
      "[131]\tcv-test-mlogloss:0.7455463333333334\tcv-train-mlogloss:0.5471305\n",
      "[132]\tcv-test-mlogloss:0.7453865\tcv-train-mlogloss:0.5461125\n",
      "[133]\tcv-test-mlogloss:0.7451378333333333\tcv-train-mlogloss:0.5449885\n",
      "[134]\tcv-test-mlogloss:0.7448833333333332\tcv-train-mlogloss:0.5439128333333333\n",
      "[135]\tcv-test-mlogloss:0.744729\tcv-train-mlogloss:0.5426105\n",
      "[136]\tcv-test-mlogloss:0.7445768333333334\tcv-train-mlogloss:0.5414426666666666\n",
      "[137]\tcv-test-mlogloss:0.7444305\tcv-train-mlogloss:0.5402270000000001\n",
      "[138]\tcv-test-mlogloss:0.7442465\tcv-train-mlogloss:0.539097\n",
      "[139]\tcv-test-mlogloss:0.7441021666666666\tcv-train-mlogloss:0.5380401666666667\n",
      "[140]\tcv-test-mlogloss:0.7439398333333332\tcv-train-mlogloss:0.5368901666666667\n",
      "[141]\tcv-test-mlogloss:0.743813\tcv-train-mlogloss:0.5358456666666667\n",
      "[142]\tcv-test-mlogloss:0.7436288333333333\tcv-train-mlogloss:0.534517\n",
      "[143]\tcv-test-mlogloss:0.7435145\tcv-train-mlogloss:0.53339\n",
      "[144]\tcv-test-mlogloss:0.7433861666666667\tcv-train-mlogloss:0.5323456666666667\n",
      "[145]\tcv-test-mlogloss:0.7432346666666666\tcv-train-mlogloss:0.5311526666666666\n",
      "[146]\tcv-test-mlogloss:0.7431016666666667\tcv-train-mlogloss:0.5299591666666666\n",
      "[147]\tcv-test-mlogloss:0.7429593333333333\tcv-train-mlogloss:0.5286333333333333\n",
      "[148]\tcv-test-mlogloss:0.742841\tcv-train-mlogloss:0.5276318333333333\n",
      "[149]\tcv-test-mlogloss:0.7426791666666666\tcv-train-mlogloss:0.5264405000000001\n",
      "[150]\tcv-test-mlogloss:0.7425736666666666\tcv-train-mlogloss:0.5253976666666668\n",
      "[151]\tcv-test-mlogloss:0.7424765\tcv-train-mlogloss:0.5242375\n",
      "[152]\tcv-test-mlogloss:0.7423993333333333\tcv-train-mlogloss:0.52314\n",
      "[153]\tcv-test-mlogloss:0.7422763333333333\tcv-train-mlogloss:0.5221408333333334\n",
      "[154]\tcv-test-mlogloss:0.7421858333333334\tcv-train-mlogloss:0.5211188333333333\n",
      "[155]\tcv-test-mlogloss:0.7420923333333334\tcv-train-mlogloss:0.5199455000000001\n",
      "[156]\tcv-test-mlogloss:0.7420515\tcv-train-mlogloss:0.5189391666666667\n",
      "[157]\tcv-test-mlogloss:0.7419481666666666\tcv-train-mlogloss:0.5179718333333333\n",
      "[158]\tcv-test-mlogloss:0.7418601666666667\tcv-train-mlogloss:0.5169076666666667\n",
      "[159]\tcv-test-mlogloss:0.7417919999999999\tcv-train-mlogloss:0.5157284999999999\n",
      "[160]\tcv-test-mlogloss:0.7417395\tcv-train-mlogloss:0.5146608333333333\n",
      "[161]\tcv-test-mlogloss:0.7417389999999999\tcv-train-mlogloss:0.5135821666666668\n",
      "[162]\tcv-test-mlogloss:0.7417313333333334\tcv-train-mlogloss:0.512536\n",
      "[163]\tcv-test-mlogloss:0.7416593333333333\tcv-train-mlogloss:0.5113918333333334\n",
      "[164]\tcv-test-mlogloss:0.7416263333333334\tcv-train-mlogloss:0.5105413333333334\n",
      "[165]\tcv-test-mlogloss:0.7415513333333333\tcv-train-mlogloss:0.5094956666666667\n",
      "[166]\tcv-test-mlogloss:0.7414658333333334\tcv-train-mlogloss:0.5083650000000001\n",
      "[167]\tcv-test-mlogloss:0.741371\tcv-train-mlogloss:0.5071578333333333\n",
      "[168]\tcv-test-mlogloss:0.7412913333333334\tcv-train-mlogloss:0.5061966666666667\n",
      "[169]\tcv-test-mlogloss:0.7412158333333333\tcv-train-mlogloss:0.5050561666666666\n",
      "[170]\tcv-test-mlogloss:0.7411853333333335\tcv-train-mlogloss:0.5039446666666667\n",
      "[171]\tcv-test-mlogloss:0.7411508333333333\tcv-train-mlogloss:0.5028773333333333\n",
      "[172]\tcv-test-mlogloss:0.7411148333333334\tcv-train-mlogloss:0.5018691666666667\n",
      "[173]\tcv-test-mlogloss:0.7410074999999999\tcv-train-mlogloss:0.5007426666666667\n",
      "[174]\tcv-test-mlogloss:0.7408691666666666\tcv-train-mlogloss:0.49950199999999995\n",
      "[175]\tcv-test-mlogloss:0.7408148333333333\tcv-train-mlogloss:0.49834683333333335\n",
      "[176]\tcv-test-mlogloss:0.740814\tcv-train-mlogloss:0.49726549999999997\n",
      "[177]\tcv-test-mlogloss:0.7406783333333333\tcv-train-mlogloss:0.4961053333333334\n",
      "[178]\tcv-test-mlogloss:0.7406331666666667\tcv-train-mlogloss:0.4951855\n",
      "[179]\tcv-test-mlogloss:0.7405743333333333\tcv-train-mlogloss:0.49438899999999997\n",
      "[180]\tcv-test-mlogloss:0.7404896666666668\tcv-train-mlogloss:0.4934868333333333\n",
      "[181]\tcv-test-mlogloss:0.7404660000000001\tcv-train-mlogloss:0.49252333333333337\n",
      "[182]\tcv-test-mlogloss:0.7403893333333333\tcv-train-mlogloss:0.49152166666666663\n",
      "[183]\tcv-test-mlogloss:0.7403738333333333\tcv-train-mlogloss:0.4905175\n",
      "[184]\tcv-test-mlogloss:0.7402219999999998\tcv-train-mlogloss:0.48942833333333335\n",
      "[185]\tcv-test-mlogloss:0.7402513333333333\tcv-train-mlogloss:0.48828916666666666\n",
      "[186]\tcv-test-mlogloss:0.7402328333333333\tcv-train-mlogloss:0.48732900000000007\n",
      "[187]\tcv-test-mlogloss:0.7401694999999999\tcv-train-mlogloss:0.48632216666666667\n",
      "[188]\tcv-test-mlogloss:0.7400994999999999\tcv-train-mlogloss:0.48514866666666673\n",
      "[189]\tcv-test-mlogloss:0.7400906666666667\tcv-train-mlogloss:0.48428850000000007\n",
      "[190]\tcv-test-mlogloss:0.7400570000000001\tcv-train-mlogloss:0.4832175\n",
      "[191]\tcv-test-mlogloss:0.7400734999999999\tcv-train-mlogloss:0.4824135\n",
      "[192]\tcv-test-mlogloss:0.7400241666666667\tcv-train-mlogloss:0.4812823333333333\n",
      "[193]\tcv-test-mlogloss:0.7400231666666666\tcv-train-mlogloss:0.4801153333333333\n",
      "[194]\tcv-test-mlogloss:0.7399973333333333\tcv-train-mlogloss:0.4791815\n",
      "[195]\tcv-test-mlogloss:0.7399810000000001\tcv-train-mlogloss:0.47821166666666665\n",
      "[196]\tcv-test-mlogloss:0.7399386666666666\tcv-train-mlogloss:0.4770391666666667\n",
      "[197]\tcv-test-mlogloss:0.7398966666666666\tcv-train-mlogloss:0.47586533333333336\n",
      "[198]\tcv-test-mlogloss:0.7397881666666667\tcv-train-mlogloss:0.4746895\n",
      "[199]\tcv-test-mlogloss:0.7397670000000001\tcv-train-mlogloss:0.47365150000000006\n",
      "[200]\tcv-test-mlogloss:0.7397466666666667\tcv-train-mlogloss:0.4728266666666667\n",
      "[201]\tcv-test-mlogloss:0.7397125\tcv-train-mlogloss:0.47179983333333336\n",
      "[202]\tcv-test-mlogloss:0.7396211666666668\tcv-train-mlogloss:0.470803\n",
      "[203]\tcv-test-mlogloss:0.739564\tcv-train-mlogloss:0.4698978333333333\n",
      "[204]\tcv-test-mlogloss:0.7395208333333333\tcv-train-mlogloss:0.46891983333333337\n",
      "[205]\tcv-test-mlogloss:0.7394675\tcv-train-mlogloss:0.4679561666666667\n",
      "[206]\tcv-test-mlogloss:0.7394750000000001\tcv-train-mlogloss:0.4668756666666667\n",
      "[207]\tcv-test-mlogloss:0.7394608333333333\tcv-train-mlogloss:0.4658401666666667\n",
      "[208]\tcv-test-mlogloss:0.7394083333333333\tcv-train-mlogloss:0.46499633333333334\n",
      "[209]\tcv-test-mlogloss:0.73934\tcv-train-mlogloss:0.4642123333333334\n",
      "[210]\tcv-test-mlogloss:0.7393321666666667\tcv-train-mlogloss:0.46315649999999997\n",
      "[211]\tcv-test-mlogloss:0.7393163333333334\tcv-train-mlogloss:0.462132\n",
      "[212]\tcv-test-mlogloss:0.7393506666666667\tcv-train-mlogloss:0.46101450000000005\n",
      "[213]\tcv-test-mlogloss:0.7393423333333334\tcv-train-mlogloss:0.4598815\n",
      "[214]\tcv-test-mlogloss:0.7393276666666667\tcv-train-mlogloss:0.45881316666666666\n",
      "[215]\tcv-test-mlogloss:0.7393236666666666\tcv-train-mlogloss:0.4578871666666667\n",
      "[216]\tcv-test-mlogloss:0.7392883333333332\tcv-train-mlogloss:0.4569921666666666\n",
      "[217]\tcv-test-mlogloss:0.7392776666666666\tcv-train-mlogloss:0.45614333333333335\n",
      "[218]\tcv-test-mlogloss:0.7392593333333334\tcv-train-mlogloss:0.45513733333333334\n",
      "[219]\tcv-test-mlogloss:0.7392381666666666\tcv-train-mlogloss:0.45411450000000003\n",
      "[220]\tcv-test-mlogloss:0.7392123333333332\tcv-train-mlogloss:0.45312233333333335\n",
      "[221]\tcv-test-mlogloss:0.739259\tcv-train-mlogloss:0.4521031666666666\n",
      "[222]\tcv-test-mlogloss:0.7392648333333334\tcv-train-mlogloss:0.45119966666666667\n",
      "[223]\tcv-test-mlogloss:0.7392041666666667\tcv-train-mlogloss:0.4501428333333333\n",
      "[224]\tcv-test-mlogloss:0.7391549999999999\tcv-train-mlogloss:0.4494235\n",
      "[225]\tcv-test-mlogloss:0.7391528333333334\tcv-train-mlogloss:0.44857449999999993\n",
      "[226]\tcv-test-mlogloss:0.7392156666666668\tcv-train-mlogloss:0.4475713333333333\n",
      "[227]\tcv-test-mlogloss:0.7391586666666666\tcv-train-mlogloss:0.44666433333333333\n",
      "[228]\tcv-test-mlogloss:0.7391584999999999\tcv-train-mlogloss:0.44585916666666664\n",
      "[229]\tcv-test-mlogloss:0.7391938333333333\tcv-train-mlogloss:0.44496933333333333\n",
      "[230]\tcv-test-mlogloss:0.7392308333333334\tcv-train-mlogloss:0.4438953333333333\n",
      "[231]\tcv-test-mlogloss:0.7392241666666667\tcv-train-mlogloss:0.44289400000000007\n",
      "[232]\tcv-test-mlogloss:0.7392206666666667\tcv-train-mlogloss:0.4418436666666666\n",
      "[233]\tcv-test-mlogloss:0.7392395\tcv-train-mlogloss:0.44111083333333334\n",
      "[234]\tcv-test-mlogloss:0.7392355\tcv-train-mlogloss:0.44022600000000006\n",
      "[235]\tcv-test-mlogloss:0.7392251666666668\tcv-train-mlogloss:0.43931116666666664\n",
      "[236]\tcv-test-mlogloss:0.7392425\tcv-train-mlogloss:0.43832200000000004\n",
      "[237]\tcv-test-mlogloss:0.7392478333333333\tcv-train-mlogloss:0.4373788333333333\n",
      "[238]\tcv-test-mlogloss:0.7392634999999999\tcv-train-mlogloss:0.4362888333333334\n",
      "[239]\tcv-test-mlogloss:0.7392348333333333\tcv-train-mlogloss:0.43534300000000004\n",
      "[240]\tcv-test-mlogloss:0.7392523333333333\tcv-train-mlogloss:0.434513\n",
      "[241]\tcv-test-mlogloss:0.7392545\tcv-train-mlogloss:0.43351699999999993\n",
      "[242]\tcv-test-mlogloss:0.7392353333333334\tcv-train-mlogloss:0.43261449999999996\n",
      "[243]\tcv-test-mlogloss:0.7392305000000001\tcv-train-mlogloss:0.431656\n",
      "[244]\tcv-test-mlogloss:0.7392560000000001\tcv-train-mlogloss:0.43073150000000004\n",
      "[245]\tcv-test-mlogloss:0.7392983333333333\tcv-train-mlogloss:0.4299116666666667\n",
      "[246]\tcv-test-mlogloss:0.739273\tcv-train-mlogloss:0.4290388333333333\n",
      "[247]\tcv-test-mlogloss:0.739243\tcv-train-mlogloss:0.4280238333333333\n",
      "[248]\tcv-test-mlogloss:0.7392381666666665\tcv-train-mlogloss:0.42716449999999995\n",
      "[249]\tcv-test-mlogloss:0.7392636666666667\tcv-train-mlogloss:0.42628249999999995\n",
      "[250]\tcv-test-mlogloss:0.7393156666666666\tcv-train-mlogloss:0.425414\n",
      "[251]\tcv-test-mlogloss:0.7392728333333333\tcv-train-mlogloss:0.42453216666666665\n",
      "[252]\tcv-test-mlogloss:0.7392635\tcv-train-mlogloss:0.42375183333333327\n",
      "[253]\tcv-test-mlogloss:0.7392471666666668\tcv-train-mlogloss:0.4230413333333333\n",
      "[254]\tcv-test-mlogloss:0.7391991666666667\tcv-train-mlogloss:0.42229883333333335\n",
      "[255]\tcv-test-mlogloss:0.7391085000000001\tcv-train-mlogloss:0.42142016666666665\n",
      "[256]\tcv-test-mlogloss:0.7391258333333334\tcv-train-mlogloss:0.42052516666666667\n",
      "[257]\tcv-test-mlogloss:0.7391416666666665\tcv-train-mlogloss:0.4197661666666666\n",
      "[258]\tcv-test-mlogloss:0.7391855\tcv-train-mlogloss:0.4189615\n",
      "[259]\tcv-test-mlogloss:0.7391519999999999\tcv-train-mlogloss:0.4181858333333334\n",
      "[260]\tcv-test-mlogloss:0.7392263333333333\tcv-train-mlogloss:0.41728000000000004\n",
      "[261]\tcv-test-mlogloss:0.7392336666666667\tcv-train-mlogloss:0.41620300000000005\n",
      "[262]\tcv-test-mlogloss:0.7392941666666667\tcv-train-mlogloss:0.41540383333333336\n",
      "[263]\tcv-test-mlogloss:0.7393461666666666\tcv-train-mlogloss:0.4144320000000001\n",
      "[264]\tcv-test-mlogloss:0.7393896666666667\tcv-train-mlogloss:0.4135586666666667\n",
      "[265]\tcv-test-mlogloss:0.7393495\tcv-train-mlogloss:0.4125646666666667\n",
      "[266]\tcv-test-mlogloss:0.7393786666666667\tcv-train-mlogloss:0.41167200000000004\n",
      "[267]\tcv-test-mlogloss:0.7393821666666667\tcv-train-mlogloss:0.41082100000000005\n",
      "[268]\tcv-test-mlogloss:0.7393895\tcv-train-mlogloss:0.40991550000000004\n",
      "[269]\tcv-test-mlogloss:0.7393876666666667\tcv-train-mlogloss:0.4091305\n",
      "[270]\tcv-test-mlogloss:0.7394249999999999\tcv-train-mlogloss:0.40819050000000007\n",
      "[271]\tcv-test-mlogloss:0.7393785\tcv-train-mlogloss:0.4072908333333334\n",
      "[272]\tcv-test-mlogloss:0.7393866666666667\tcv-train-mlogloss:0.40634449999999994\n",
      "[273]\tcv-test-mlogloss:0.7394214999999998\tcv-train-mlogloss:0.405507\n",
      "[274]\tcv-test-mlogloss:0.7395031666666666\tcv-train-mlogloss:0.4046775\n",
      "[275]\tcv-test-mlogloss:0.739507\tcv-train-mlogloss:0.40358133333333335\n",
      "[276]\tcv-test-mlogloss:0.7395445\tcv-train-mlogloss:0.40258816666666664\n",
      "[277]\tcv-test-mlogloss:0.7395343333333333\tcv-train-mlogloss:0.401808\n",
      "[278]\tcv-test-mlogloss:0.7395505\tcv-train-mlogloss:0.40075733333333335\n",
      "[279]\tcv-test-mlogloss:0.7395708333333334\tcv-train-mlogloss:0.3999156666666667\n",
      "[280]\tcv-test-mlogloss:0.7395995000000001\tcv-train-mlogloss:0.399083\n",
      "[281]\tcv-test-mlogloss:0.7396441666666668\tcv-train-mlogloss:0.39839850000000004\n",
      "[282]\tcv-test-mlogloss:0.7397333333333332\tcv-train-mlogloss:0.39760366666666663\n",
      "[283]\tcv-test-mlogloss:0.7397671666666668\tcv-train-mlogloss:0.3966883333333333\n",
      "[284]\tcv-test-mlogloss:0.7397696666666667\tcv-train-mlogloss:0.39590233333333336\n",
      "[285]\tcv-test-mlogloss:0.7398148333333333\tcv-train-mlogloss:0.39498649999999996\n",
      "[286]\tcv-test-mlogloss:0.739792\tcv-train-mlogloss:0.39408100000000007\n",
      "[287]\tcv-test-mlogloss:0.7397906666666666\tcv-train-mlogloss:0.39318766666666666\n",
      "[288]\tcv-test-mlogloss:0.7398513333333333\tcv-train-mlogloss:0.3924016666666667\n",
      "[289]\tcv-test-mlogloss:0.7398261666666667\tcv-train-mlogloss:0.3915291666666667\n",
      "[290]\tcv-test-mlogloss:0.7398741666666666\tcv-train-mlogloss:0.39066\n",
      "[291]\tcv-test-mlogloss:0.7399376666666666\tcv-train-mlogloss:0.3896968333333333\n",
      "[292]\tcv-test-mlogloss:0.7399673333333333\tcv-train-mlogloss:0.38897050000000005\n",
      "[293]\tcv-test-mlogloss:0.7400691666666667\tcv-train-mlogloss:0.3881195\n",
      "[294]\tcv-test-mlogloss:0.740119\tcv-train-mlogloss:0.38743466666666665\n",
      "[295]\tcv-test-mlogloss:0.7401398333333332\tcv-train-mlogloss:0.386514\n",
      "[296]\tcv-test-mlogloss:0.7401326666666667\tcv-train-mlogloss:0.38582983333333326\n",
      "[297]\tcv-test-mlogloss:0.7401268333333334\tcv-train-mlogloss:0.3851003333333333\n",
      "[298]\tcv-test-mlogloss:0.7401523333333332\tcv-train-mlogloss:0.384201\n",
      "[299]\tcv-test-mlogloss:0.7402015000000001\tcv-train-mlogloss:0.3834245\n"
     ]
    }
   ],
   "source": [
    "cv = xgb.cv(params, dtrain, metrics=('mlogloss'), show_progress=True, nfold=6, show_stdv=False, num_boost_round=trees)"
   ]
  },
  {
   "cell_type": "code",
   "execution_count": 42,
   "metadata": {
    "collapsed": false
   },
   "outputs": [
    {
     "data": {
      "text/plain": [
       "<matplotlib.axes._subplots.AxesSubplot at 0x10e366898>"
      ]
     },
     "execution_count": 42,
     "metadata": {},
     "output_type": "execute_result"
    },
    {
     "data": {
      "image/png": "[encoded data removed]",
      "text/plain": [
       "<matplotlib.figure.Figure at 0x10e342ac8>"
      ]
     },
     "metadata": {},
     "output_type": "display_data"
    }
   ],
   "source": [
    "cv.plot(y='test-mlogloss-mean')"
   ]
  },
  {
   "cell_type": "code",
   "execution_count": 43,
   "metadata": {
    "collapsed": false
   },
   "outputs": [
    {
     "data": {
      "text/plain": [
       "<matplotlib.axes._subplots.AxesSubplot at 0x10e3429b0>"
      ]
     },
     "execution_count": 43,
     "metadata": {},
     "output_type": "execute_result"
    },
    {
     "data": {
      "image/png": "[encoded data removed]",
      "text/plain": [
       "<matplotlib.figure.Figure at 0x11f7f64e0>"
      ]
     },
     "metadata": {},
     "output_type": "display_data"
    }
   ],
   "source": [
    "cv[200:].plot(y='test-mlogloss-mean')"
   ]
  },
  {
   "cell_type": "code",
   "execution_count": 44,
   "metadata": {
    "collapsed": false
   },
   "outputs": [
    {
     "data": {
      "text/plain": [
       "255"
      ]
     },
     "execution_count": 44,
     "metadata": {},
     "output_type": "execute_result"
    }
   ],
   "source": [
    "cv['test-mlogloss-mean'].argmin()"
   ]
  },
  {
   "cell_type": "code",
   "execution_count": 46,
   "metadata": {
    "collapsed": false
   },
   "outputs": [
    {
     "data": {
      "text/plain": [
       "test-mlogloss-mean     0.739109\n",
       "test-mlogloss-std      0.010274\n",
       "train-mlogloss-mean    0.421420\n",
       "train-mlogloss-std     0.002723\n",
       "Name: 255, dtype: float64"
      ]
     },
     "execution_count": 46,
     "metadata": {},
     "output_type": "execute_result"
    }
   ],
   "source": [
    "cv.loc[255]"
   ]
  },
  {
   "cell_type": "code",
   "execution_count": 47,
   "metadata": {
    "collapsed": false
   },
   "outputs": [],
   "source": [
    "trees = cv['test-mlogloss-mean'].argmin()"
   ]
  },
  {
   "cell_type": "code",
   "execution_count": 48,
   "metadata": {
    "collapsed": false
   },
   "outputs": [
    {
     "data": {
      "text/plain": [
       "{'eta': 0.05,\n",
       " 'max_depth': 8,\n",
       " 'min_child_weight': 2,\n",
       " 'num_class': 5,\n",
       " 'objective': 'multi:softprob',\n",
       " 'subsample': 0.9}"
      ]
     },
     "execution_count": 48,
     "metadata": {},
     "output_type": "execute_result"
    }
   ],
   "source": [
    "params"
   ]
  },
  {
   "cell_type": "code",
   "execution_count": 49,
   "metadata": {
    "collapsed": false
   },
   "outputs": [],
   "source": [
    "bst = xgb.train(params, dtrain, num_boost_round=trees)"
   ]
  },
  {
   "cell_type": "code",
   "execution_count": 50,
   "metadata": {
    "collapsed": false
   },
   "outputs": [],
   "source": [
    "imps = pd.Series(bst.get_fscore()).sort_values()"
   ]
  },
  {
   "cell_type": "code",
   "execution_count": 54,
   "metadata": {
    "collapsed": false
   },
   "outputs": [
    {
     "data": {
      "text/plain": [
       "<matplotlib.axes._subplots.AxesSubplot at 0x10eece438>"
      ]
     },
     "execution_count": 54,
     "metadata": {},
     "output_type": "execute_result"
    },
    {
     "data": {
      "image/png": "[encoded data removed]",
      "text/plain": [
       "<matplotlib.figure.Figure at 0x10eefd2e8>"
      ]
     },
     "metadata": {},
     "output_type": "display_data"
    }
   ],
   "source": [
    "imps.plot(kind='bar', figsize=(15,6),logy=True)"
   ]
  },
  {
   "cell_type": "code",
   "execution_count": null,
   "metadata": {
    "collapsed": false
   },
   "outputs": [],
   "source": [
    "dtest = xgb.DMatrix(test)"
   ]
  },
  {
   "cell_type": "code",
   "execution_count": null,
   "metadata": {
    "collapsed": false
   },
   "outputs": [],
   "source": [
    "p = bst.predict(dtest)"
   ]
  },
  {
   "cell_type": "code",
   "execution_count": null,
   "metadata": {
    "collapsed": false
   },
   "outputs": [],
   "source": [
    "sub = pd.DataFrame(p, columns=sample.columns[1:])\n",
    "sub['ID'] = sample.ID\n",
    "sub.to_csv('subs/cmf/xgb1.csv', index=False)"
   ]
  },
  {
   "cell_type": "markdown",
   "metadata": {},
   "source": [
    "Try NN\n",
    "--"
   ]
  },
  {
   "cell_type": "code",
   "execution_count": 55,
   "metadata": {
    "collapsed": false
   },
   "outputs": [
    {
     "name": "stderr",
     "output_type": "stream",
     "text": [
      "Using TensorFlow backend.\n"
     ]
    }
   ],
   "source": [
    "from keras.models import Sequential\n",
    "from keras.layers import Dense, Dropout, Activation\n",
    "from keras.optimizers import Adam\n",
    "from keras.utils.np_utils import to_categorical"
   ]
  },
  {
   "cell_type": "code",
   "execution_count": 60,
   "metadata": {
    "collapsed": true
   },
   "outputs": [],
   "source": [
    "nn = Sequential()\n",
    "nn.add(Dense(128, input_dim=37, init='uniform'))\n",
    "nn.add(Activation('sigmoid'))\n",
    "nn.add(Dense(5, init='uniform'))\n",
    "nn.add(Activation('softmax'))\n",
    "\n",
    "opt = Adam(lr=1e-3)\n",
    "nn.compile(loss='categorical_crossentropy', optimizer=opt)"
   ]
  },
  {
   "cell_type": "code",
   "execution_count": 61,
   "metadata": {
    "collapsed": false
   },
   "outputs": [],
   "source": [
    "from sklearn.preprocessing import StandardScaler\n",
    "ss = StandardScaler()"
   ]
  },
  {
   "cell_type": "code",
   "execution_count": 62,
   "metadata": {
    "collapsed": false,
    "scrolled": true
   },
   "outputs": [
    {
     "name": "stdout",
     "output_type": "stream",
     "text": [
      "Train on 22719 samples, validate on 4010 samples\n",
      "Epoch 1/100\n",
      "22719/22719 [==============================] - 1s - loss: 1.0799 - val_loss: 0.9531\n",
      "Epoch 2/100\n",
      "22719/22719 [==============================] - 1s - loss: 0.9211 - val_loss: 0.9062\n",
      "Epoch 3/100\n",
      "22719/22719 [==============================] - 1s - loss: 0.9017 - val_loss: 0.9044\n",
      "Epoch 4/100\n",
      "22719/22719 [==============================] - 1s - loss: 0.8964 - val_loss: 0.9006\n",
      "Epoch 5/100\n",
      "22719/22719 [==============================] - 1s - loss: 0.8948 - val_loss: 0.8966\n",
      "Epoch 6/100\n",
      "22719/22719 [==============================] - 1s - loss: 0.8924 - val_loss: 0.8933\n",
      "Epoch 7/100\n",
      "22719/22719 [==============================] - 1s - loss: 0.8923 - val_loss: 0.8940\n",
      "Epoch 8/100\n",
      "22719/22719 [==============================] - 1s - loss: 0.8910 - val_loss: 0.8910\n",
      "Epoch 9/100\n",
      "22719/22719 [==============================] - 1s - loss: 0.8900 - val_loss: 0.8936\n",
      "Epoch 10/100\n",
      "22719/22719 [==============================] - 1s - loss: 0.8889 - val_loss: 0.8900\n",
      "Epoch 11/100\n",
      "22719/22719 [==============================] - 1s - loss: 0.8894 - val_loss: 0.8916\n",
      "Epoch 12/100\n",
      "22719/22719 [==============================] - 1s - loss: 0.8872 - val_loss: 0.8912\n",
      "Epoch 13/100\n",
      "22719/22719 [==============================] - 1s - loss: 0.8864 - val_loss: 0.8914\n",
      "Epoch 14/100\n",
      "22719/22719 [==============================] - 1s - loss: 0.8853 - val_loss: 0.8895\n",
      "Epoch 15/100\n",
      "22719/22719 [==============================] - 1s - loss: 0.8842 - val_loss: 0.8881\n",
      "Epoch 16/100\n",
      "22719/22719 [==============================] - 1s - loss: 0.8811 - val_loss: 0.8846\n",
      "Epoch 17/100\n",
      "22719/22719 [==============================] - 1s - loss: 0.8799 - val_loss: 0.8847\n",
      "Epoch 18/100\n",
      "22719/22719 [==============================] - 1s - loss: 0.8777 - val_loss: 0.8824\n",
      "Epoch 19/100\n",
      "22719/22719 [==============================] - 1s - loss: 0.8748 - val_loss: 0.8803\n",
      "Epoch 20/100\n",
      "22719/22719 [==============================] - 1s - loss: 0.8723 - val_loss: 0.8755\n",
      "Epoch 21/100\n",
      "22719/22719 [==============================] - 1s - loss: 0.8699 - val_loss: 0.8768\n",
      "Epoch 22/100\n",
      "22719/22719 [==============================] - 1s - loss: 0.8672 - val_loss: 0.8740\n",
      "Epoch 23/100\n",
      "22719/22719 [==============================] - 1s - loss: 0.8635 - val_loss: 0.8712\n",
      "Epoch 24/100\n",
      "22719/22719 [==============================] - 1s - loss: 0.8605 - val_loss: 0.8715\n",
      "Epoch 25/100\n",
      "22719/22719 [==============================] - 1s - loss: 0.8580 - val_loss: 0.8650\n",
      "Epoch 26/100\n",
      "22719/22719 [==============================] - 1s - loss: 0.8548 - val_loss: 0.8658\n",
      "Epoch 27/100\n",
      "22719/22719 [==============================] - 1s - loss: 0.8522 - val_loss: 0.8599\n",
      "Epoch 28/100\n",
      "22719/22719 [==============================] - 1s - loss: 0.8489 - val_loss: 0.8590\n",
      "Epoch 29/100\n",
      "22719/22719 [==============================] - 1s - loss: 0.8460 - val_loss: 0.8572\n",
      "Epoch 30/100\n",
      "22719/22719 [==============================] - 1s - loss: 0.8429 - val_loss: 0.8554\n",
      "Epoch 31/100\n",
      "22719/22719 [==============================] - 1s - loss: 0.8407 - val_loss: 0.8516\n",
      "Epoch 32/100\n",
      "22719/22719 [==============================] - 1s - loss: 0.8376 - val_loss: 0.8518\n",
      "Epoch 33/100\n",
      "22719/22719 [==============================] - 1s - loss: 0.8359 - val_loss: 0.8490\n",
      "Epoch 34/100\n",
      "22719/22719 [==============================] - 1s - loss: 0.8338 - val_loss: 0.8495\n",
      "Epoch 35/100\n",
      "22719/22719 [==============================] - 1s - loss: 0.8313 - val_loss: 0.8471\n",
      "Epoch 36/100\n",
      "22719/22719 [==============================] - 1s - loss: 0.8286 - val_loss: 0.8463\n",
      "Epoch 37/100\n",
      "22719/22719 [==============================] - 1s - loss: 0.8268 - val_loss: 0.8476\n",
      "Epoch 38/100\n",
      "22719/22719 [==============================] - 1s - loss: 0.8261 - val_loss: 0.8515\n",
      "Epoch 39/100\n",
      "22719/22719 [==============================] - 1s - loss: 0.8238 - val_loss: 0.8433\n",
      "Epoch 40/100\n",
      "22719/22719 [==============================] - 1s - loss: 0.8216 - val_loss: 0.8417\n",
      "Epoch 41/100\n",
      "22719/22719 [==============================] - 1s - loss: 0.8200 - val_loss: 0.8407\n",
      "Epoch 42/100\n",
      "22719/22719 [==============================] - 1s - loss: 0.8181 - val_loss: 0.8394\n",
      "Epoch 43/100\n",
      "22719/22719 [==============================] - 1s - loss: 0.8165 - val_loss: 0.8403\n",
      "Epoch 44/100\n",
      "22719/22719 [==============================] - 1s - loss: 0.8150 - val_loss: 0.8382\n",
      "Epoch 45/100\n",
      "22719/22719 [==============================] - 1s - loss: 0.8127 - val_loss: 0.8349\n",
      "Epoch 46/100\n",
      "22719/22719 [==============================] - 1s - loss: 0.8114 - val_loss: 0.8344\n",
      "Epoch 47/100\n",
      "22719/22719 [==============================] - 1s - loss: 0.8105 - val_loss: 0.8351\n",
      "Epoch 48/100\n",
      "22719/22719 [==============================] - 1s - loss: 0.8093 - val_loss: 0.8345\n",
      "Epoch 49/100\n",
      "22719/22719 [==============================] - 1s - loss: 0.8077 - val_loss: 0.8372\n",
      "Epoch 50/100\n",
      "22719/22719 [==============================] - 1s - loss: 0.8060 - val_loss: 0.8324\n",
      "Epoch 51/100\n",
      "22719/22719 [==============================] - 1s - loss: 0.8043 - val_loss: 0.8376\n",
      "Epoch 52/100\n",
      "22719/22719 [==============================] - 1s - loss: 0.8031 - val_loss: 0.8309\n",
      "Epoch 53/100\n",
      "22719/22719 [==============================] - 1s - loss: 0.8022 - val_loss: 0.8334\n",
      "Epoch 54/100\n",
      "22719/22719 [==============================] - 1s - loss: 0.8008 - val_loss: 0.8295\n",
      "Epoch 55/100\n",
      "22719/22719 [==============================] - 1s - loss: 0.7993 - val_loss: 0.8326\n",
      "Epoch 56/100\n",
      "22719/22719 [==============================] - 1s - loss: 0.7992 - val_loss: 0.8308\n",
      "Epoch 57/100\n",
      "22719/22719 [==============================] - 1s - loss: 0.7976 - val_loss: 0.8271\n",
      "Epoch 58/100\n",
      "22719/22719 [==============================] - 1s - loss: 0.7956 - val_loss: 0.8282\n",
      "Epoch 59/100\n",
      "22719/22719 [==============================] - 1s - loss: 0.7947 - val_loss: 0.8261\n",
      "Epoch 60/100\n",
      "22719/22719 [==============================] - 1s - loss: 0.7931 - val_loss: 0.8257\n",
      "Epoch 61/100\n",
      "22719/22719 [==============================] - 1s - loss: 0.7929 - val_loss: 0.8244\n",
      "Epoch 62/100\n",
      "22719/22719 [==============================] - 1s - loss: 0.7915 - val_loss: 0.8263\n",
      "Epoch 63/100\n",
      "22719/22719 [==============================] - 1s - loss: 0.7902 - val_loss: 0.8250\n",
      "Epoch 64/100\n",
      "22719/22719 [==============================] - 1s - loss: 0.7883 - val_loss: 0.8274\n",
      "Epoch 65/100\n",
      "22719/22719 [==============================] - 1s - loss: 0.7873 - val_loss: 0.8247\n",
      "Epoch 66/100\n",
      "22719/22719 [==============================] - 1s - loss: 0.7860 - val_loss: 0.8222\n",
      "Epoch 67/100\n",
      "22719/22719 [==============================] - 1s - loss: 0.7850 - val_loss: 0.8248\n",
      "Epoch 68/100\n",
      "22719/22719 [==============================] - 1s - loss: 0.7837 - val_loss: 0.8227\n",
      "Epoch 69/100\n",
      "22719/22719 [==============================] - 1s - loss: 0.7829 - val_loss: 0.8225\n",
      "Epoch 70/100\n",
      "22719/22719 [==============================] - 1s - loss: 0.7825 - val_loss: 0.8235\n",
      "Epoch 71/100\n",
      "22719/22719 [==============================] - 1s - loss: 0.7811 - val_loss: 0.8265\n",
      "Epoch 72/100\n",
      "22719/22719 [==============================] - 1s - loss: 0.7801 - val_loss: 0.8207\n",
      "Epoch 73/100\n",
      "22719/22719 [==============================] - 1s - loss: 0.7791 - val_loss: 0.8235\n",
      "Epoch 74/100\n",
      "22719/22719 [==============================] - 1s - loss: 0.7776 - val_loss: 0.8232\n",
      "Epoch 75/100\n",
      "22719/22719 [==============================] - 1s - loss: 0.7763 - val_loss: 0.8216\n",
      "Epoch 76/100\n",
      "22719/22719 [==============================] - 1s - loss: 0.7753 - val_loss: 0.8192\n",
      "Epoch 77/100\n",
      "22719/22719 [==============================] - 1s - loss: 0.7747 - val_loss: 0.8219\n",
      "Epoch 78/100\n",
      "22719/22719 [==============================] - 1s - loss: 0.7741 - val_loss: 0.8194\n",
      "Epoch 79/100\n",
      "22719/22719 [==============================] - 1s - loss: 0.7720 - val_loss: 0.8176\n",
      "Epoch 80/100\n",
      "22719/22719 [==============================] - 1s - loss: 0.7717 - val_loss: 0.8212\n",
      "Epoch 81/100\n",
      "22719/22719 [==============================] - 1s - loss: 0.7696 - val_loss: 0.8259\n",
      "Epoch 82/100\n",
      "22719/22719 [==============================] - 1s - loss: 0.7694 - val_loss: 0.8189\n",
      "Epoch 83/100\n",
      "22719/22719 [==============================] - 1s - loss: 0.7679 - val_loss: 0.8186\n",
      "Epoch 84/100\n",
      "22719/22719 [==============================] - 1s - loss: 0.7665 - val_loss: 0.8187\n",
      "Epoch 85/100\n",
      "22719/22719 [==============================] - 1s - loss: 0.7658 - val_loss: 0.8173\n",
      "Epoch 86/100\n",
      "22719/22719 [==============================] - 1s - loss: 0.7649 - val_loss: 0.8173\n",
      "Epoch 87/100\n",
      "22719/22719 [==============================] - 1s - loss: 0.7637 - val_loss: 0.8191\n",
      "Epoch 88/100\n",
      "22719/22719 [==============================] - 1s - loss: 0.7635 - val_loss: 0.8189\n",
      "Epoch 89/100\n",
      "22719/22719 [==============================] - 1s - loss: 0.7623 - val_loss: 0.8171\n",
      "Epoch 90/100\n",
      "22719/22719 [==============================] - 1s - loss: 0.7604 - val_loss: 0.8167\n",
      "Epoch 91/100\n",
      "22719/22719 [==============================] - 1s - loss: 0.7597 - val_loss: 0.8171\n",
      "Epoch 92/100\n",
      "22719/22719 [==============================] - 1s - loss: 0.7593 - val_loss: 0.8184\n",
      "Epoch 93/100\n",
      "22719/22719 [==============================] - 1s - loss: 0.7581 - val_loss: 0.8176\n",
      "Epoch 94/100\n",
      "22719/22719 [==============================] - 1s - loss: 0.7565 - val_loss: 0.8180\n",
      "Epoch 95/100\n",
      "22719/22719 [==============================] - 1s - loss: 0.7559 - val_loss: 0.8213\n",
      "Epoch 96/100\n",
      "22719/22719 [==============================] - 1s - loss: 0.7546 - val_loss: 0.8188\n",
      "Epoch 97/100\n",
      "22719/22719 [==============================] - 1s - loss: 0.7538 - val_loss: 0.8151\n",
      "Epoch 98/100\n",
      "22719/22719 [==============================] - 1s - loss: 0.7520 - val_loss: 0.8177\n",
      "Epoch 99/100\n",
      "22719/22719 [==============================] - 1s - loss: 0.7521 - val_loss: 0.8152\n",
      "Epoch 100/100\n",
      "22719/22719 [==============================] - 1s - loss: 0.7511 - val_loss: 0.8195\n"
     ]
    }
   ],
   "source": [
    "hist = nn.fit(ss.fit_transform(Xtr), to_categorical(ytr), validation_data=(ss.transform(Xval), to_categorical(yval)))"
   ]
  },
  {
   "cell_type": "code",
   "execution_count": 65,
   "metadata": {
    "collapsed": false,
    "scrolled": true
   },
   "outputs": [
    {
     "data": {
      "text/plain": [
       "<matplotlib.legend.Legend at 0x1165c3470>"
      ]
     },
     "execution_count": 65,
     "metadata": {},
     "output_type": "execute_result"
    },
    {
     "data": {
      "image/png": "[encoded data removed]",
      "text/plain": [
       "<matplotlib.figure.Figure at 0x1164e3b70>"
      ]
     },
     "metadata": {},
     "output_type": "display_data"
    }
   ],
   "source": [
    "start = 40\n",
    "plt.plot(hist.history['loss'][start:])\n",
    "plt.plot(hist.history['val_loss'][start:])\n",
    "plt.legend(['Train loss', 'Validation loss'])"
   ]
  },
  {
   "cell_type": "markdown",
   "metadata": {},
   "source": [
    "Random Forest\n",
    "--"
   ]
  },
  {
   "cell_type": "code",
   "execution_count": 66,
   "metadata": {
    "collapsed": true
   },
   "outputs": [],
   "source": [
    "from sklearn.ensemble import RandomForestClassifier"
   ]
  },
  {
   "cell_type": "code",
   "execution_count": 67,
   "metadata": {
    "collapsed": false
   },
   "outputs": [
    {
     "data": {
      "text/plain": [
       "0.80541833005512031"
      ]
     },
     "execution_count": 67,
     "metadata": {},
     "output_type": "execute_result"
    }
   ],
   "source": [
    "rf = RandomForestClassifier(n_estimators=200, n_jobs=3)\n",
    "rf.fit(Xtr, ytr)\n",
    "log_loss(yval, rf.predict_proba(Xval))"
   ]
  },
  {
   "cell_type": "code",
   "execution_count": 68,
   "metadata": {
    "collapsed": false
   },
   "outputs": [],
   "source": [
    "from sklearn.calibration import CalibratedClassifierCV"
   ]
  },
  {
   "cell_type": "code",
   "execution_count": 69,
   "metadata": {
    "collapsed": false
   },
   "outputs": [
    {
     "data": {
      "text/plain": [
       "0.77688204110523984"
      ]
     },
     "execution_count": 69,
     "metadata": {},
     "output_type": "execute_result"
    }
   ],
   "source": [
    "calib = CalibratedClassifierCV(RandomForestClassifier(n_jobs=3, n_estimators=200), cv=3, method='isotonic')\n",
    "calib.fit(Xtr, ytr)\n",
    "log_loss(yval, calib.predict_proba(Xval))"
   ]
  },
  {
   "cell_type": "code",
   "execution_count": 72,
   "metadata": {
    "collapsed": false
   },
   "outputs": [
    {
     "data": {
      "text/plain": [
       "0.77511244224787335"
      ]
     },
     "execution_count": 72,
     "metadata": {},
     "output_type": "execute_result"
    }
   ],
   "source": [
    "calib = CalibratedClassifierCV(RandomForestClassifier(n_jobs=3, n_estimators=200), cv=10, method='isotonic')\n",
    "calib.fit(Xtr, ytr)\n",
    "log_loss(yval, calib.predict_proba(Xval))"
   ]
  },
  {
   "cell_type": "code",
   "execution_count": 71,
   "metadata": {
    "collapsed": false
   },
   "outputs": [
    {
     "data": {
      "text/plain": [
       "0.77565884080920311"
      ]
     },
     "execution_count": 71,
     "metadata": {},
     "output_type": "execute_result"
    }
   ],
   "source": [
    "calib = CalibratedClassifierCV(RandomForestClassifier(n_jobs=3, n_estimators=1000), cv=10, method='isotonic')\n",
    "calib.fit(Xtr, ytr)\n",
    "log_loss(yval, calib.predict_proba(Xval))"
   ]
  },
  {
   "cell_type": "markdown",
   "metadata": {},
   "source": [
    "# Meta classifier\n",
    "\n",
    "Сначала нужно найти оптимальные веса. Для этого обучим каждый классификатор только на Xtr и сделаем предсказания для Xval"
   ]
  },
  {
   "cell_type": "code",
   "execution_count": 73,
   "metadata": {
    "collapsed": false
   },
   "outputs": [],
   "source": [
    "clf1_p = lr.fit(Xtr, ytr).predict_proba(Xval)"
   ]
  },
  {
   "cell_type": "code",
   "execution_count": 74,
   "metadata": {
    "collapsed": true
   },
   "outputs": [],
   "source": [
    "dXtr = xgb.DMatrix(Xtr, label=ytr)\n",
    "dXval = xgb.DMatrix(Xval, label=yval)\n",
    "xgb_Xtr_only = xgb.train(params, dXtr, num_boost_round=trees)"
   ]
  },
  {
   "cell_type": "code",
   "execution_count": 75,
   "metadata": {
    "collapsed": false
   },
   "outputs": [],
   "source": [
    "clf2_p = xgb_Xtr_only.predict(dXval)"
   ]
  },
  {
   "cell_type": "code",
   "execution_count": 76,
   "metadata": {
    "collapsed": false
   },
   "outputs": [],
   "source": [
    "clf3_p = nn.predict(ss.transform(Xval))"
   ]
  },
  {
   "cell_type": "code",
   "execution_count": 77,
   "metadata": {
    "collapsed": false
   },
   "outputs": [],
   "source": [
    "clf4_p = calib.predict_proba(Xval)"
   ]
  },
  {
   "cell_type": "code",
   "execution_count": 78,
   "metadata": {
    "collapsed": false
   },
   "outputs": [],
   "source": [
    "assert clf1_p.shape == clf2_p.shape == clf3_p.shape == clf4_p.shape"
   ]
  },
  {
   "cell_type": "code",
   "execution_count": 80,
   "metadata": {
    "collapsed": false
   },
   "outputs": [
    {
     "data": {
      "text/plain": [
       "(0.90463821499700192,\n",
       " 0.74985644314896793,\n",
       " 0.81946150696005038,\n",
       " 0.77511244224787335)"
      ]
     },
     "execution_count": 80,
     "metadata": {},
     "output_type": "execute_result"
    }
   ],
   "source": [
    "log_loss(yval, clf1_p), log_loss(yval, clf2_p), log_loss(yval, clf3_p), log_loss(yval, clf4_p)"
   ]
  },
  {
   "cell_type": "code",
   "execution_count": 81,
   "metadata": {
    "collapsed": false
   },
   "outputs": [
    {
     "data": {
      "text/plain": [
       "array([[ 1.        ,  0.6256993 ,  0.78457577,  0.64835179],\n",
       "       [ 0.6256993 ,  1.        ,  0.75484684,  0.86342404],\n",
       "       [ 0.78457577,  0.75484684,  1.        ,  0.7972619 ],\n",
       "       [ 0.64835179,  0.86342404,  0.7972619 ,  1.        ]])"
      ]
     },
     "execution_count": 81,
     "metadata": {},
     "output_type": "execute_result"
    }
   ],
   "source": [
    "cl = 2\n",
    "np.corrcoef([clf1_p[:,cl], clf2_p[:,cl], clf3_p[:,cl], clf4_p[:,cl]])"
   ]
  },
  {
   "cell_type": "code",
   "execution_count": 82,
   "metadata": {
    "collapsed": false
   },
   "outputs": [],
   "source": [
    "Ps = np.array([clf1_p, clf2_p, clf3_p, clf4_p]).T\n",
    "def ensemble_logloss(w):\n",
    "    return log_loss(yval, (Ps*w).sum(2).T/np.sum(w))"
   ]
  },
  {
   "cell_type": "code",
   "execution_count": 85,
   "metadata": {
    "collapsed": false
   },
   "outputs": [
    {
     "data": {
      "text/plain": [
       "0.74906306410846601"
      ]
     },
     "execution_count": 85,
     "metadata": {},
     "output_type": "execute_result"
    }
   ],
   "source": [
    "ensemble_logloss(np.array([0,1,0,1]))"
   ]
  },
  {
   "cell_type": "code",
   "execution_count": 86,
   "metadata": {
    "collapsed": false
   },
   "outputs": [],
   "source": [
    "from scipy.optimize import minimize"
   ]
  },
  {
   "cell_type": "code",
   "execution_count": 87,
   "metadata": {
    "collapsed": false
   },
   "outputs": [
    {
     "data": {
      "text/plain": [
       "      fun: 0.7452404112226547\n",
       " hess_inv: array([[  23.0882823 ,   12.56727143,  -21.40511457,  -13.92945199],\n",
       "       [  12.56727143,  123.07114244,  -28.71149619, -106.95833527],\n",
       "       [ -21.40511457,  -28.71149619,   91.21697115,  -39.6293532 ],\n",
       "       [ -13.92945199, -106.95833527,  -39.6293532 ,  162.67409461]])\n",
       "      jac: array([ -9.94652510e-06,   3.65078449e-07,  -8.04662704e-07,\n",
       "        -2.03400850e-06])\n",
       "  message: 'Optimization terminated successfully.'\n",
       "     nfev: 168\n",
       "      nit: 22\n",
       "     njev: 28\n",
       "   status: 0\n",
       "  success: True\n",
       "        x: array([-0.10232158,  2.95899491,  0.11171173,  0.98422674])"
      ]
     },
     "execution_count": 87,
     "metadata": {},
     "output_type": "execute_result"
    }
   ],
   "source": [
    "opt = minimize(ensemble_logloss, x0=np.array([1,1,1,1]))\n",
    "opt"
   ]
  },
  {
   "cell_type": "code",
   "execution_count": 88,
   "metadata": {
    "collapsed": true
   },
   "outputs": [],
   "source": [
    "Ps = np.array([clf2_p, clf3_p, clf4_p]).T\n",
    "def ensemble_logloss(w):\n",
    "    return log_loss(yval, (Ps*w).sum(2).T/np.sum(w))"
   ]
  },
  {
   "cell_type": "code",
   "execution_count": 89,
   "metadata": {
    "collapsed": false
   },
   "outputs": [
    {
     "data": {
      "text/plain": [
       "      fun: 0.7454484387428456\n",
       " hess_inv: array([[ 76.15687398, -12.4515318 , -63.4844894 ],\n",
       "       [-12.4515318 ,  46.13525694, -32.67038387],\n",
       "       [-63.4844894 , -32.67038387,  97.88651125]])\n",
       "      jac: array([  6.18398190e-07,  -6.63101673e-06,  -1.98185444e-06])\n",
       "  message: 'Optimization terminated successfully.'\n",
       "     nfev: 85\n",
       "      nit: 13\n",
       "     njev: 17\n",
       "   status: 0\n",
       "  success: True\n",
       "        x: array([ 2.26274419,  0.00654819,  0.7060441 ])"
      ]
     },
     "execution_count": 89,
     "metadata": {},
     "output_type": "execute_result"
    }
   ],
   "source": [
    "opt = minimize(ensemble_logloss, x0=np.array([1,1,1]))\n",
    "opt"
   ]
  },
  {
   "cell_type": "code",
   "execution_count": 90,
   "metadata": {
    "collapsed": false
   },
   "outputs": [
    {
     "data": {
      "text/plain": [
       "array([ 0.76050027,  0.00220082,  0.23729891])"
      ]
     },
     "execution_count": 90,
     "metadata": {},
     "output_type": "execute_result"
    }
   ],
   "source": [
    "w = opt.x/opt.x.sum()\n",
    "w"
   ]
  },
  {
   "cell_type": "code",
   "execution_count": 92,
   "metadata": {
    "collapsed": true
   },
   "outputs": [],
   "source": [
    "dtest = xgb.DMatrix(test)"
   ]
  },
  {
   "cell_type": "code",
   "execution_count": 93,
   "metadata": {
    "collapsed": false
   },
   "outputs": [],
   "source": [
    "p2 = bst.predict(dtest)"
   ]
  },
  {
   "cell_type": "code",
   "execution_count": 94,
   "metadata": {
    "collapsed": true
   },
   "outputs": [],
   "source": [
    "p3 = nn.predict(ss.transform(test))"
   ]
  },
  {
   "cell_type": "code",
   "execution_count": 95,
   "metadata": {
    "collapsed": true
   },
   "outputs": [],
   "source": [
    "#calib.fit(X, y)\n",
    "p4 = calib.predict_proba(test)"
   ]
  },
  {
   "cell_type": "code",
   "execution_count": 96,
   "metadata": {
    "collapsed": true
   },
   "outputs": [],
   "source": [
    "assert p2.shape == p3.shape == p4.shape"
   ]
  },
  {
   "cell_type": "code",
   "execution_count": 97,
   "metadata": {
    "collapsed": false
   },
   "outputs": [],
   "source": [
    "ens_p = (p2*w[0] + p3*w[1] + p4*w[2])"
   ]
  },
  {
   "cell_type": "code",
   "execution_count": 98,
   "metadata": {
    "collapsed": true
   },
   "outputs": [],
   "source": [
    "sub = pd.DataFrame(ens_p, columns=sample.columns[1:])\n",
    "sub['ID'] = sample.ID\n",
    "sub.to_csv('subs/cmf/ens2.csv', index=False)"
   ]
  },
  {
   "cell_type": "markdown",
   "metadata": {},
   "source": [
    "Соседи и SVM?\n",
    "--\n",
    "\n",
    "Для SVM задача большая, соседей обучить сложно – нужно выбирать метрику и подгонять важность фичей."
   ]
  },
  {
   "cell_type": "code",
   "execution_count": null,
   "metadata": {
    "collapsed": true
   },
   "outputs": [],
   "source": [
    "from sklearn.neighbors import KNeighborsClassifier"
   ]
  },
  {
   "cell_type": "code",
   "execution_count": null,
   "metadata": {
    "collapsed": false
   },
   "outputs": [],
   "source": [
    "losses=[]\n",
    "ks = np.arange(1,201,5)\n",
    "for k in ks:\n",
    "    knn = KNeighborsClassifier(weights='distance', n_neighbors=k)\n",
    "    knn.fit(Xtr, ytr)\n",
    "    losses.append(log_loss(yval, knn.predict_proba(Xval)))"
   ]
  },
  {
   "cell_type": "code",
   "execution_count": null,
   "metadata": {
    "collapsed": false
   },
   "outputs": [],
   "source": [
    "fig, axes = plt.subplots(ncols=2, figsize=(14,5))\n",
    "axes[0].plot(ks, losses)\n",
    "axes[1].plot(ks[10:], losses[10:])"
   ]
  },
  {
   "cell_type": "code",
   "execution_count": null,
   "metadata": {
    "collapsed": false
   },
   "outputs": [],
   "source": [
    "from sklearn.ensemble import BaggingClassifier\n",
    "bag = BaggingClassifier(\n",
    "    KNeighborsClassifier(n_neighbors=30, weights='distance'),\n",
    "    max_features=0.5, max_samples=0.5, random_state=0)\n",
    "bag.fit(Xtr, ytr)"
   ]
  },
  {
   "cell_type": "code",
   "execution_count": null,
   "metadata": {
    "collapsed": false
   },
   "outputs": [],
   "source": [
    "log_loss(yval, bag.predict_proba(Xval))"
   ]
  },
  {
   "cell_type": "code",
   "execution_count": null,
   "metadata": {
    "collapsed": true
   },
   "outputs": [],
   "source": [
    "from sklearn.svm import SVC"
   ]
  },
  {
   "cell_type": "code",
   "execution_count": null,
   "metadata": {
    "collapsed": true
   },
   "outputs": [],
   "source": [
    "svm = SVC(kernel='rbf', probability=True)"
   ]
  },
  {
   "cell_type": "code",
   "execution_count": null,
   "metadata": {
    "collapsed": false
   },
   "outputs": [],
   "source": [
    "%%time\n",
    "N = 5000\n",
    "svm.fit(Xtr[:N], ytr[:N])"
   ]
  },
  {
   "cell_type": "code",
   "execution_count": null,
   "metadata": {
    "collapsed": false
   },
   "outputs": [],
   "source": [
    "p_svm = svm.predict_proba(Xval)"
   ]
  },
  {
   "cell_type": "code",
   "execution_count": null,
   "metadata": {
    "collapsed": false
   },
   "outputs": [],
   "source": [
    "log_loss(yval, p_svm)"
   ]
  }
 ],
 "metadata": {
  "kernelspec": {
   "display_name": "Python 3",
   "language": "python",
   "name": "python3"
  },
  "language_info": {
   "codemirror_mode": {
    "name": "ipython",
    "version": 3
   },
   "file_extension": ".py",
   "mimetype": "text/x-python",
   "name": "python",
   "nbconvert_exporter": "python",
   "pygments_lexer": "ipython3",
   "version": "3.5.1"
  }
 },
 "nbformat": 4,
 "nbformat_minor": 0
}
